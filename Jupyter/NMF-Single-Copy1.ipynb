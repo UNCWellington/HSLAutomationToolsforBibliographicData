{
 "cells": [
  {
   "cell_type": "markdown",
   "id": "3883682e",
   "metadata": {},
   "source": [
    "# Topic Modeling with Single NMF Model\n",
    "Solution: use K-mean model to output\n",
    "Source: seed_sample_2000_input.csv"
   ]
  },
  {
   "cell_type": "markdown",
   "id": "a4da7279",
   "metadata": {},
   "source": [
    "## Source"
   ]
  },
  {
   "cell_type": "markdown",
   "id": "e4656cf0",
   "metadata": {},
   "source": [
    "\n",
    "<img src=\"images/source-input-seed-2000.png\" alt=\"term-document matrix\" style=\"width: 80%\"/>"
   ]
  },
  {
   "cell_type": "markdown",
   "id": "ff1d676d",
   "metadata": {},
   "source": [
    "### import necessary library"
   ]
  },
  {
   "cell_type": "code",
   "execution_count": 226,
   "id": "2d36a6a6",
   "metadata": {},
   "outputs": [],
   "source": [
    "from flask import Flask, request, redirect, render_template, Response, send_file, send_from_directory\n",
    "from flask_wtf import FlaskForm\n",
    "from wtforms import SelectMultipleField\n",
    "from flask_bootstrap import Bootstrap\n",
    "from os.path import join, dirname, realpath\n",
    "import pandas as pd\n",
    "# from sklearn.feature_extraction.text import TfidfVectorizer\n",
    "from sklearn.feature_extraction.text import TfidfVectorizer, CountVectorizer  # add CountVectorizer for NMF\n",
    "from sklearn.cluster import KMeans\n",
    "from datetime import datetime\n",
    "import io, os\n",
    "import numpy as np"
   ]
  },
  {
   "cell_type": "markdown",
   "id": "b1af1226",
   "metadata": {},
   "source": [
    "### Import library for stopwords"
   ]
  },
  {
   "cell_type": "code",
   "execution_count": 227,
   "id": "9d79143c",
   "metadata": {},
   "outputs": [],
   "source": [
    "from sklearn import decomposition\n",
    "import matplotlib.pyplot as plt\n",
    "import re\n",
    "import nltk\n",
    "from nltk.stem.porter import PorterStemmer\n",
    "from sklearn.model_selection import train_test_split"
   ]
  },
  {
   "cell_type": "code",
   "execution_count": 228,
   "id": "97399f98",
   "metadata": {},
   "outputs": [
    {
     "name": "stderr",
     "output_type": "stream",
     "text": [
      "[nltk_data] Downloading package punkt to\n",
      "[nltk_data]     /Users/shouqiangye/nltk_data...\n",
      "[nltk_data]   Package punkt is already up-to-date!\n"
     ]
    },
    {
     "data": {
      "text/plain": [
       "True"
      ]
     },
     "execution_count": 228,
     "metadata": {},
     "output_type": "execute_result"
    }
   ],
   "source": [
    "nltk.download('punkt')"
   ]
  },
  {
   "cell_type": "markdown",
   "id": "eff90469",
   "metadata": {},
   "source": [
    "### Set DF from csv file\n",
    "Source 1: <a href=\"https://github.com/UNCWellington/AI-tools/blob/main/seed_sample_2000_input.csv?raw=true\">seed_sample_2000_input.csv</a>  only 2000 rows  \n",
    "\n",
    "Source 2: <a href=\"https://github.com/UNCWellington/AI-tools/blob/main/Sample-for-SC.csv?raw=true\">Sample-for-SC.csv   </a> nearly 10,000 rows\n",
    "Note: we shoud add ?raw=true at the end of github link address"
   ]
  },
  {
   "cell_type": "code",
   "execution_count": 229,
   "id": "c6e20c14",
   "metadata": {},
   "outputs": [],
   "source": [
    "# url = 'https://github.com/UNCWellington/AI-tools/blob/main/seed_sample_2000_input.csv?raw=true'\n",
    "url = 'https://github.com/UNCWellington/AI-tools/blob/main/Sample-for-SC.csv?raw=true'\n",
    "# df = pd.read_csv(url,index_col=0)\n",
    "df = pd.read_csv(url, keep_default_na=False)"
   ]
  },
  {
   "cell_type": "code",
   "execution_count": 230,
   "id": "9ea56dd4",
   "metadata": {
    "scrolled": true
   },
   "outputs": [
    {
     "data": {
      "text/html": [
       "<div>\n",
       "<style scoped>\n",
       "    .dataframe tbody tr th:only-of-type {\n",
       "        vertical-align: middle;\n",
       "    }\n",
       "\n",
       "    .dataframe tbody tr th {\n",
       "        vertical-align: top;\n",
       "    }\n",
       "\n",
       "    .dataframe thead th {\n",
       "        text-align: right;\n",
       "    }\n",
       "</style>\n",
       "<table border=\"1\" class=\"dataframe\">\n",
       "  <thead>\n",
       "    <tr style=\"text-align: right;\">\n",
       "      <th></th>\n",
       "      <th>AN</th>\n",
       "      <th>Seed</th>\n",
       "      <th>TAB</th>\n",
       "    </tr>\n",
       "  </thead>\n",
       "  <tbody>\n",
       "    <tr>\n",
       "      <th>0</th>\n",
       "      <td>1783</td>\n",
       "      <td></td>\n",
       "      <td>\"Anywhere but here\": Querying spatial stigma a...</td>\n",
       "    </tr>\n",
       "    <tr>\n",
       "      <th>1</th>\n",
       "      <td>4672</td>\n",
       "      <td></td>\n",
       "      <td>\"Are We Safe Analysts?\" Cisgender Countertrans...</td>\n",
       "    </tr>\n",
       "    <tr>\n",
       "      <th>2</th>\n",
       "      <td>4444</td>\n",
       "      <td></td>\n",
       "      <td>\"As a Trans Person You Don't Live. You Merely ...</td>\n",
       "    </tr>\n",
       "    <tr>\n",
       "      <th>3</th>\n",
       "      <td>22</td>\n",
       "      <td></td>\n",
       "      <td>\"At Your Service\": Sexual Harassment of Female...</td>\n",
       "    </tr>\n",
       "    <tr>\n",
       "      <th>4</th>\n",
       "      <td>2808</td>\n",
       "      <td></td>\n",
       "      <td>\"Bareback\" pornography consumption and safe-se...</td>\n",
       "    </tr>\n",
       "  </tbody>\n",
       "</table>\n",
       "</div>"
      ],
      "text/plain": [
       "     AN Seed                                                TAB\n",
       "0  1783       \"Anywhere but here\": Querying spatial stigma a...\n",
       "1  4672       \"Are We Safe Analysts?\" Cisgender Countertrans...\n",
       "2  4444       \"As a Trans Person You Don't Live. You Merely ...\n",
       "3    22       \"At Your Service\": Sexual Harassment of Female...\n",
       "4  2808       \"Bareback\" pornography consumption and safe-se..."
      ]
     },
     "execution_count": 230,
     "metadata": {},
     "output_type": "execute_result"
    }
   ],
   "source": [
    "df.head()"
   ]
  },
  {
   "cell_type": "markdown",
   "id": "587ef865",
   "metadata": {},
   "source": [
    "## Stop words, stemming, lemmatization"
   ]
  },
  {
   "cell_type": "code",
   "execution_count": 231,
   "id": "dabbac4a",
   "metadata": {
    "scrolled": true
   },
   "outputs": [
    {
     "name": "stderr",
     "output_type": "stream",
     "text": [
      "[nltk_data] Downloading package stopwords to\n",
      "[nltk_data]     /Users/shouqiangye/nltk_data...\n",
      "[nltk_data]   Package stopwords is already up-to-date!\n"
     ]
    }
   ],
   "source": [
    "stemmer = nltk.stem.SnowballStemmer('english')\n",
    "nltk.download('stopwords')\n",
    "stopwords = set(nltk.corpus.stopwords.words('english'))"
   ]
  },
  {
   "cell_type": "code",
   "execution_count": 262,
   "id": "68017a52",
   "metadata": {},
   "outputs": [
    {
     "data": {
      "text/plain": [
       "{'a',\n",
       " 'about',\n",
       " 'above',\n",
       " 'after',\n",
       " 'again',\n",
       " 'against',\n",
       " 'ain',\n",
       " 'all',\n",
       " 'am',\n",
       " 'an',\n",
       " 'and',\n",
       " 'any',\n",
       " 'are',\n",
       " 'aren',\n",
       " \"aren't\",\n",
       " 'as',\n",
       " 'at',\n",
       " 'be',\n",
       " 'because',\n",
       " 'been',\n",
       " 'before',\n",
       " 'being',\n",
       " 'below',\n",
       " 'between',\n",
       " 'both',\n",
       " 'but',\n",
       " 'by',\n",
       " 'can',\n",
       " 'couldn',\n",
       " \"couldn't\",\n",
       " 'd',\n",
       " 'did',\n",
       " 'didn',\n",
       " \"didn't\",\n",
       " 'do',\n",
       " 'does',\n",
       " 'doesn',\n",
       " \"doesn't\",\n",
       " 'doing',\n",
       " 'don',\n",
       " \"don't\",\n",
       " 'down',\n",
       " 'during',\n",
       " 'each',\n",
       " 'few',\n",
       " 'for',\n",
       " 'from',\n",
       " 'further',\n",
       " 'had',\n",
       " 'hadn',\n",
       " \"hadn't\",\n",
       " 'has',\n",
       " 'hasn',\n",
       " \"hasn't\",\n",
       " 'have',\n",
       " 'haven',\n",
       " \"haven't\",\n",
       " 'having',\n",
       " 'he',\n",
       " 'her',\n",
       " 'here',\n",
       " 'hers',\n",
       " 'herself',\n",
       " 'him',\n",
       " 'himself',\n",
       " 'his',\n",
       " 'how',\n",
       " 'i',\n",
       " 'if',\n",
       " 'in',\n",
       " 'into',\n",
       " 'is',\n",
       " 'isn',\n",
       " \"isn't\",\n",
       " 'it',\n",
       " \"it's\",\n",
       " 'its',\n",
       " 'itself',\n",
       " 'just',\n",
       " 'll',\n",
       " 'm',\n",
       " 'ma',\n",
       " 'me',\n",
       " 'mightn',\n",
       " \"mightn't\",\n",
       " 'more',\n",
       " 'most',\n",
       " 'mustn',\n",
       " \"mustn't\",\n",
       " 'my',\n",
       " 'myself',\n",
       " 'needn',\n",
       " \"needn't\",\n",
       " 'no',\n",
       " 'nor',\n",
       " 'not',\n",
       " 'now',\n",
       " 'o',\n",
       " 'of',\n",
       " 'off',\n",
       " 'on',\n",
       " 'once',\n",
       " 'only',\n",
       " 'or',\n",
       " 'other',\n",
       " 'our',\n",
       " 'ours',\n",
       " 'ourselves',\n",
       " 'out',\n",
       " 'over',\n",
       " 'own',\n",
       " 're',\n",
       " 's',\n",
       " 'same',\n",
       " 'shan',\n",
       " \"shan't\",\n",
       " 'she',\n",
       " \"she's\",\n",
       " 'should',\n",
       " \"should've\",\n",
       " 'shouldn',\n",
       " \"shouldn't\",\n",
       " 'so',\n",
       " 'some',\n",
       " 'such',\n",
       " 't',\n",
       " 'than',\n",
       " 'that',\n",
       " \"that'll\",\n",
       " 'the',\n",
       " 'their',\n",
       " 'theirs',\n",
       " 'them',\n",
       " 'themselves',\n",
       " 'then',\n",
       " 'there',\n",
       " 'these',\n",
       " 'they',\n",
       " 'this',\n",
       " 'those',\n",
       " 'through',\n",
       " 'to',\n",
       " 'too',\n",
       " 'under',\n",
       " 'until',\n",
       " 'up',\n",
       " 've',\n",
       " 'very',\n",
       " 'was',\n",
       " 'wasn',\n",
       " \"wasn't\",\n",
       " 'we',\n",
       " 'were',\n",
       " 'weren',\n",
       " \"weren't\",\n",
       " 'what',\n",
       " 'when',\n",
       " 'where',\n",
       " 'which',\n",
       " 'while',\n",
       " 'who',\n",
       " 'whom',\n",
       " 'why',\n",
       " 'will',\n",
       " 'with',\n",
       " 'won',\n",
       " \"won't\",\n",
       " 'wouldn',\n",
       " \"wouldn't\",\n",
       " 'y',\n",
       " 'you',\n",
       " \"you'd\",\n",
       " \"you'll\",\n",
       " \"you're\",\n",
       " \"you've\",\n",
       " 'your',\n",
       " 'yours',\n",
       " 'yourself',\n",
       " 'yourselves'}"
      ]
     },
     "execution_count": 262,
     "metadata": {},
     "output_type": "execute_result"
    }
   ],
   "source": [
    "stopwords"
   ]
  },
  {
   "cell_type": "markdown",
   "id": "747ad4e8",
   "metadata": {},
   "source": [
    "## Data Processing"
   ]
  },
  {
   "cell_type": "markdown",
   "id": "33313e52",
   "metadata": {},
   "source": [
    "Next, scikit learn has a method that will extract all the word counts for us"
   ]
  },
  {
   "cell_type": "code",
   "execution_count": 232,
   "id": "140a3589",
   "metadata": {},
   "outputs": [],
   "source": [
    "documents = df['TAB'].values.astype(\"U\")"
   ]
  },
  {
   "cell_type": "code",
   "execution_count": 233,
   "id": "b363cef9",
   "metadata": {},
   "outputs": [
    {
     "data": {
      "text/plain": [
       "array(['\"Anywhere but here\": Querying spatial stigma as a social determinant of health among youth of color accessing LGBTQ services in Chicago\\'s Boystown The link between stigma and negative health outcomes is established, yet available research infrequently considers the complex intersection of place, race, and class-based stigma and how this stigma shapes opportunities and health among marginalized groups. Furthermore, scholarship on the relationship between stigma and health often fails to include the voices of the stigmatized themselves. This exclusion renders their lived-experiences hidden and their insight devalued, producing findings with limited validity to promote health equity and social change. In this article, we explore intersecting place, race, and class-based stigmas, or spatial stigma, as a social determinant of health among youth of color (YoC) accessing LGBTQ-specific services in the Chicago\\'s White, middle-class gay enclave, Boystown. Qualitative data were collected within the context of a youth participatory action research study with 11 youth researchers (ages 18-24). Data sources included critical autoethnography, focus groups with current and former LGBTQ service patrons, and individual interviews with LGBTQ service providers. Emergent thematic patterns illuminate how the stigmatization of YoC based on place, race, and class (i.e., being from poor and low-income, racialized South and West sides communities) impacts their opportunities in the neighborhood and access to health-supporting resources. These findings may be useful for practitioners and policy makers who aim to promote health equity among marginalized young people and add to the growing body of literature on health effects of spatial stigma among marginalized communities.',\n",
       "       '\"Are We Safe Analysts?\" Cisgender Countertransferential Fantasies in the Treatment of Transgender Patients The authors examine the impact of countertransference in two clinical cases of transgender patients treated by two cisgender analysts who are accustomed to receiving nonconforming gender patients in France and Brazil. The context is that of contemporary views of transphobic countertransference reactions, specifically the work of Griffin Hansbury, who describes these reactions in terms of \"unthinkable anxieties.\" Like other theorists with expanding notions of countertransference, the authors view transphobia in analysis as an \"instrument of research\" and consider how taking responsibility for the transference is particularly relevant in respect to clinical cases that also reflect societal changes. Following the authors\\' case presentations, they identify four different fantasies and countertransferential reactions that sprang from their efforts to be safe analysts or, in other words, analysts concerned about the perpetuation of discrimination, violence, and oppression that may have guided their work.',\n",
       "       '\"As a Trans Person You Don\\'t Live. You Merely Try to Survive and Apologize Every Day for Who You Are\" - Discrimination Experiences among Trans Individuals in Greece\" This qualitative study sheds light on an issue very little research has been conducted on so far, the discrimination trans people in Greece are subjected to every day. The findings presented in this paper are part of a larger study focusing on trans persons\\' life experiences in contemporary Greece. Eleven participants identified various discrimination areas, employment, education, family, romantic relationships and daily life; participants also pointed out specific measures that would contribute to the improvement of their life. Findings are discussed in relation to measures toward eliminating discrimination against trans persons such as the improvement of gender recognition legislation, an increase in general education regarding gender identity issues and the need for transgender-focused research.',\n",
       "       ...,\n",
       "       \"â€˜The ownâ€™ and â€˜the wiseâ€™ as social support for older people living with HIV in the United Kingdom As the HIV population ages, how the ageing and HIV experiences intersect to shape the lives of older people living with HIV (PLWH) becomes an increasingly pressing question. This multi-method study investigated social support, mental health and quality of life among 100 older PLWH in the United Kingdom. Drawing on data from three focus groups and 74 life-history interviews with older (aged 50+) White men who have sex with men (MSM), and Black African and White heterosexual men and women, living with HIV, we explore participantsâ€™ distinctions between, evaluations of and access to sources of social support. Participants distinguished between support from the HIV-negative (Goffman's â€˜the ownâ€™) and experientially based support from other PLWH (Goffman's â€˜the wiseâ€™), and viewed the former, while valuable, as needing to be supplemented by the latter. Furthermore, access to experientially based support varied across participant groups, whose communities had different histories with HIV/AIDS and thus different degrees of knowledge about HIV and avenues for connecting to other PLWH. Thus, social support among older PLWH cannot be neatly divided into â€˜formalâ€™ and â€˜informalâ€™ domains, or fully appreciated by applying traditional social support measures, including, in the context of health conditions, â€˜peer supportâ€™ created through formal service organisations. Rather, older PLWH's own distinctions and evaluations better illuminate the complexities of social support in the context of ageing with HIV. (PsycInfo Database Record (c) 2021 APA, all rights reserved)\",\n",
       "       'â€˜Totally straightâ€™: Contested sexual identities on social media site reddit This article is centred on a case study of the â€˜Totally Straightâ€™ (r/TotallyStraight) â€˜subredditâ€™ on social media site reddit. r/TotallyStraight serves as a web forum for sharing gay pornography amongst men who identity as straight. I draw on a small-scale study of the r/TotallyStraight subreddit, conducted over a period of three months. Analysis reveals that while r/TotallyStraight is largely used as a forum for sharing porn depicting men, it also serves as a space for affirmation and sharing personal narratives related to contested â€˜mostly straightâ€™ sexual identities. The moderators of the subreddit, and the users themselves, foster a supportive, non-judgemental discourse. It is argued that this phenomenon could be representative of broader cultural shifts towards less rigidly defined sexual identities. (PsycINFO Database Record (c) 2018 APA, all rights reserved)',\n",
       "       \"â€žTransMenschen', Psychoanalyse und Psychotherapie: TranssexualitÃ¤t, TransidentitÃ¤t, Gender-Dysphorieâ€”Und wie weiter? = 'Transpeople', psychoanalysis and psychotherapy: Transsexuality, transidentity, gender dysphoria â€“ and what next? In the specialist field even the denomination of the gender identity is controversial: transsexuality, transidentity, gender dysphoria, neurointersexual body discrepancy, perceived gender nonconformity or 'trans'. Behind these terms are etiological concepts, which influence the therapeutic actions. Based on his 47 years of involvement with transidentity, the author is in concordance with the view of those authors who plead that trans should be considered as a nonpathological variant of human identity and to relinquish the search for psychogenetic causes. As a rule classical psychoanalytical treatment is not carried out with transpeople. They need their mental strength for the transition process. At most, such a setting can ultimately be considered when transpeople are approved as candidates for psychoanalytical training, something which has not yet happened. Based on a phase model of trans-development it is shown which topics can be of relevance in a psychoanalytically oriented therapy. The accompaniment of the transition does not generally represent a therapy but is a coaching process. Therapeutic measures are only necessary when reactive mental disorders (due to traumatic life situations) or primary mental diseases (occurring independently from the transidentity) are present. The author pleads for the case that after counselling by those specialists participating in the transition, the currently extremely heteronomous transpeople will in the future autonomously decide, i.e. without any expert opinion or other demands on them, which medical and legal steps they want to undertake. (PsycINFO Database Record (c) 2018 APA, all rights reserved) Bereits die Bezeichnung der GeschlechtsidentitÃ¤t ist im Fachbereich kontrovers: TranssexualitÃ¤t, TransidentitÃ¤t, Gender-Dysphorie, neurointersexuelle KÃ¶rperdiskrepanz, nonkonformes Geschlechtsempfinden, â€žTrans'. Hinter diesen Begriffen stehen Ã¤tiologische Konzepte, die das therapeutische Handeln beeinflussen. Der Autor schlieÃŸt sich aufgrund seiner 47-jÃ¤hrigen BeschÃ¤ftigung mit TransidentitÃ¤t der Ansicht der AutorInnen an, die dafÃ¼r plÃ¤dieren, Trans als nichtpathologische Variante menschlicher IdentitÃ¤t zu betrachten und die Suche nach psychogenetischen Ursachen aufzugeben. In der Regel werden mit TransMenschen keine klassisch psychoanalytischen Behandlungen durchgefÃ¼hrt. Sie benÃ¶tigen ihre psychischen KrÃ¤fte fÃ¼r den Transitionsprozess. Allenfalls kann anschlieÃŸend ein solches Setting erwogen werden, am ehesten, wenn TransMenschen als KandidatInnen zur psychoanalytischen Ausbildung zugelassen werdenâ€”was bisher nicht geschieht. Ausgehend von einem Phasenmodell der Trans-Entwicklung wird aufgezeigt, welche Themen in einer psychoanalytisch orientierten Therapie relevant sein kÃ¶nnen. Die Begleitung der Transition stellt im Allgemeinen keine Therapie dar, sondern ist ein Coaching-Prozess. Therapeutische MaÃŸnahmen sind lediglich dann nÃ¶tig, wenn reaktive psychische StÃ¶rungen (aufgrund traumatischer Lebenssituationen) oder primÃ¤re psychische Erkrankungen (die unabhÃ¤ngig von der TransidentitÃ¤t bestehen) vorliegen. Der Autor plÃ¤diert dafÃ¼r, dass die heute extrem fremdbestimmten TransMenschen in Zukunft nach Beratung durch die an der Transition beteiligten Fachleute autonom, das heiÃŸt ohne irgendwelche Gutachten oder sonstige Forderungen an sie, entscheiden, welche medizinischen und rechtlichen Schritte sie unternehmen wollen. (PsycINFO Database Record (c) 2018 APA, all rights reserved)\"],\n",
       "      dtype='<U18500')"
      ]
     },
     "execution_count": 233,
     "metadata": {},
     "output_type": "execute_result"
    }
   ],
   "source": [
    "documents"
   ]
  },
  {
   "cell_type": "code",
   "execution_count": 234,
   "id": "532a5fe1",
   "metadata": {},
   "outputs": [],
   "source": [
    "# vectorizer = TfidfVectorizer(stop_words=stopwords, ngram_range=(1, 2))\n",
    "#features = vectorizer.fit_transform(documents)"
   ]
  },
  {
   "cell_type": "code",
   "execution_count": 235,
   "id": "20812dd1",
   "metadata": {},
   "outputs": [],
   "source": [
    "vectorizer = CountVectorizer(stop_words=stopwords, ngram_range=(1, 3)) "
   ]
  },
  {
   "cell_type": "code",
   "execution_count": 236,
   "id": "a8a20558",
   "metadata": {},
   "outputs": [
    {
     "data": {
      "text/plain": [
       "(10094, 2432537)"
      ]
     },
     "execution_count": 236,
     "metadata": {},
     "output_type": "execute_result"
    }
   ],
   "source": [
    "# vectors = vectorizer.fit_transform(documents).todense() # (documents, vocab)\n",
    "vectors = vectorizer.fit_transform(documents)\n",
    "vectors.shape #, vectors.nnz / vectors.shape[0], row_means.shape"
   ]
  },
  {
   "cell_type": "code",
   "execution_count": 237,
   "id": "d1b012f9",
   "metadata": {},
   "outputs": [
    {
     "name": "stdout",
     "output_type": "stream",
     "text": [
      "10094 (10094, 2432537)\n"
     ]
    }
   ],
   "source": [
    "print(len(documents), vectors.shape)"
   ]
  },
  {
   "cell_type": "code",
   "execution_count": 238,
   "id": "585273c9",
   "metadata": {},
   "outputs": [],
   "source": [
    "# vocab = np.array(vectorizer.get_feature_names_out())\n",
    "# we change vocab variable to terms\n",
    "terms = np.array(vectorizer.get_feature_names_out())"
   ]
  },
  {
   "cell_type": "code",
   "execution_count": 239,
   "id": "4ad03685",
   "metadata": {},
   "outputs": [
    {
     "data": {
      "text/plain": [
       "(2432537,)"
      ]
     },
     "execution_count": 239,
     "metadata": {},
     "output_type": "execute_result"
    }
   ],
   "source": [
    "terms.shape"
   ]
  },
  {
   "cell_type": "code",
   "execution_count": 240,
   "id": "8cd6464c",
   "metadata": {},
   "outputs": [
    {
     "data": {
      "text/plain": [
       "array(['02 96', '02 96 05', '02 98', '02 98 fully', '02 activism',\n",
       "       '02 activism lgbt', '02 addition', '02 addition expected',\n",
       "       '02 adolescents', '02 adolescents alcohol', '02 affectional',\n",
       "       '02 affectional expression', '02 age', '02 age start', '02 also',\n",
       "       '02 also associated', '02 although', '02 although incidence',\n",
       "       '02 although intended', '02 among'], dtype=object)"
      ]
     },
     "execution_count": 240,
     "metadata": {},
     "output_type": "execute_result"
    }
   ],
   "source": [
    "terms[7000:7020]"
   ]
  },
  {
   "cell_type": "markdown",
   "id": "d6d8c8b4",
   "metadata": {},
   "source": [
    "## Non-negative Matrix Factorization (NMF)"
   ]
  },
  {
   "cell_type": "markdown",
   "id": "7a11b1fe",
   "metadata": {},
   "source": [
    "#### Applications of NMF"
   ]
  },
  {
   "cell_type": "markdown",
   "id": "37519cc6",
   "metadata": {},
   "source": [
    "\n",
    "- Topic Modeling (our problem!)\n",
    "\n",
    "<img src=\"images/nmf_doc.png\" alt=\"NMF on documents\" style=\"width: 80%\"/>\n",
    "\n"
   ]
  },
  {
   "cell_type": "markdown",
   "id": "353859e1",
   "metadata": {},
   "source": [
    "### NMF from sklearn"
   ]
  },
  {
   "cell_type": "markdown",
   "id": "2e5993cf",
   "metadata": {},
   "source": [
    "We will use [scikit-learn's implementation of NMF](http://scikit-learn.org/stable/modules/generated/sklearn.decomposition.NMF.html):"
   ]
  },
  {
   "cell_type": "code",
   "execution_count": 241,
   "id": "e2d47c35",
   "metadata": {},
   "outputs": [],
   "source": [
    "m,n=vectors.shape\n",
    "d=10  # num topics"
   ]
  },
  {
   "cell_type": "code",
   "execution_count": 260,
   "id": "7d8c0bc2",
   "metadata": {},
   "outputs": [],
   "source": [
    "clf = decomposition.NMF(n_components=d, init='nndsvda',max_iter=1,  verbose=0, random_state=3425)"
   ]
  },
  {
   "cell_type": "code",
   "execution_count": 261,
   "id": "7ccc47ec",
   "metadata": {
    "scrolled": true
   },
   "outputs": [
    {
     "name": "stderr",
     "output_type": "stream",
     "text": [
      "/Users/shouqiangye/opt/anaconda3/lib/python3.9/site-packages/sklearn/decomposition/_nmf.py:1637: ConvergenceWarning: Maximum number of iterations 2 reached. Increase it to improve convergence.\n",
      "  warnings.warn(\n"
     ]
    }
   ],
   "source": [
    "W1 = clf.fit_transform(vectors)\n",
    "H1 = clf.components_"
   ]
  },
  {
   "cell_type": "code",
   "execution_count": 244,
   "id": "c2c1c4b1",
   "metadata": {},
   "outputs": [],
   "source": [
    "num_top_words=10\n",
    "def show_topics(a):\n",
    "    top_words = lambda t: [terms[i] for i in np.argsort(t)[:-num_top_words-1:-1]]\n",
    "    topic_words = ([top_words(t) for t in a])\n",
    "    return [' '.join(t) for t in topic_words]"
   ]
  },
  {
   "cell_type": "code",
   "execution_count": 245,
   "id": "28cb2ad0",
   "metadata": {
    "scrolled": true
   },
   "outputs": [
    {
     "data": {
      "text/plain": [
       "['sexual behavior sexual behavior orientation sexual orientation risk behaviors minority sexual minority sex',\n",
       " 'hiv msm testing risk among prep prevention infection hiv testing study',\n",
       " 'gender transgender identity gender identity patients sex study female male individuals',\n",
       " 'de la en que el las los se con del',\n",
       " 'health mental mental health care transgender health care among minority outcomes based',\n",
       " 'men sex msm sex men men sex men sex men gay among anal gay men',\n",
       " '95 ci 95 ci aor among associated prevalence years study participants',\n",
       " 'use risk alcohol prep substance among substance use drug associated alcohol use',\n",
       " 'study gay social self attitudes rights participants research record database',\n",
       " 'women heterosexual study men transgender women lesbian transgender bisexual differences compared']"
      ]
     },
     "execution_count": 245,
     "metadata": {},
     "output_type": "execute_result"
    }
   ],
   "source": [
    "show_topics(H1)"
   ]
  },
  {
   "cell_type": "markdown",
   "id": "5b47a84e",
   "metadata": {},
   "source": [
    "### Calcuate Dominant topic with NMF"
   ]
  },
  {
   "cell_type": "markdown",
   "id": "eba271b8",
   "metadata": {},
   "source": [
    "### calculate dominant_topic directly by skip topic0-9"
   ]
  },
  {
   "cell_type": "code",
   "execution_count": 246,
   "id": "36252c61",
   "metadata": {},
   "outputs": [],
   "source": [
    "# colnames = [\"Topic\" + str(i) for i in range(clf.n_components)]\n",
    "# docnames = df['AN']\n",
    "# df_doc_topic = pd.DataFrame(np.round(W1, 2), columns=colnames, index=docnames)\n",
    "df_doc_topic = pd.DataFrame()\n",
    "significant_topic = np.argmax(W1, axis=1)\n",
    "df_doc_topic['new_dominant_topic'] = significant_topic"
   ]
  },
  {
   "cell_type": "code",
   "execution_count": 247,
   "id": "2b526b35",
   "metadata": {
    "scrolled": true
   },
   "outputs": [
    {
     "data": {
      "text/html": [
       "<div>\n",
       "<style scoped>\n",
       "    .dataframe tbody tr th:only-of-type {\n",
       "        vertical-align: middle;\n",
       "    }\n",
       "\n",
       "    .dataframe tbody tr th {\n",
       "        vertical-align: top;\n",
       "    }\n",
       "\n",
       "    .dataframe thead th {\n",
       "        text-align: right;\n",
       "    }\n",
       "</style>\n",
       "<table border=\"1\" class=\"dataframe\">\n",
       "  <thead>\n",
       "    <tr style=\"text-align: right;\">\n",
       "      <th></th>\n",
       "      <th>new_dominant_topic</th>\n",
       "    </tr>\n",
       "  </thead>\n",
       "  <tbody>\n",
       "    <tr>\n",
       "      <th>0</th>\n",
       "      <td>4</td>\n",
       "    </tr>\n",
       "    <tr>\n",
       "      <th>1</th>\n",
       "      <td>2</td>\n",
       "    </tr>\n",
       "    <tr>\n",
       "      <th>2</th>\n",
       "      <td>2</td>\n",
       "    </tr>\n",
       "    <tr>\n",
       "      <th>3</th>\n",
       "      <td>0</td>\n",
       "    </tr>\n",
       "    <tr>\n",
       "      <th>4</th>\n",
       "      <td>5</td>\n",
       "    </tr>\n",
       "    <tr>\n",
       "      <th>...</th>\n",
       "      <td>...</td>\n",
       "    </tr>\n",
       "    <tr>\n",
       "      <th>10089</th>\n",
       "      <td>7</td>\n",
       "    </tr>\n",
       "    <tr>\n",
       "      <th>10090</th>\n",
       "      <td>8</td>\n",
       "    </tr>\n",
       "    <tr>\n",
       "      <th>10091</th>\n",
       "      <td>1</td>\n",
       "    </tr>\n",
       "    <tr>\n",
       "      <th>10092</th>\n",
       "      <td>8</td>\n",
       "    </tr>\n",
       "    <tr>\n",
       "      <th>10093</th>\n",
       "      <td>2</td>\n",
       "    </tr>\n",
       "  </tbody>\n",
       "</table>\n",
       "<p>10094 rows × 1 columns</p>\n",
       "</div>"
      ],
      "text/plain": [
       "       new_dominant_topic\n",
       "0                       4\n",
       "1                       2\n",
       "2                       2\n",
       "3                       0\n",
       "4                       5\n",
       "...                   ...\n",
       "10089                   7\n",
       "10090                   8\n",
       "10091                   1\n",
       "10092                   8\n",
       "10093                   2\n",
       "\n",
       "[10094 rows x 1 columns]"
      ]
     },
     "execution_count": 247,
     "metadata": {},
     "output_type": "execute_result"
    }
   ],
   "source": [
    "df_doc_topic"
   ]
  },
  {
   "cell_type": "code",
   "execution_count": 248,
   "id": "71572509",
   "metadata": {},
   "outputs": [],
   "source": [
    "df['Topic'] = significant_topic"
   ]
  },
  {
   "cell_type": "code",
   "execution_count": 249,
   "id": "ba535244",
   "metadata": {},
   "outputs": [
    {
     "data": {
      "text/html": [
       "<div>\n",
       "<style scoped>\n",
       "    .dataframe tbody tr th:only-of-type {\n",
       "        vertical-align: middle;\n",
       "    }\n",
       "\n",
       "    .dataframe tbody tr th {\n",
       "        vertical-align: top;\n",
       "    }\n",
       "\n",
       "    .dataframe thead th {\n",
       "        text-align: right;\n",
       "    }\n",
       "</style>\n",
       "<table border=\"1\" class=\"dataframe\">\n",
       "  <thead>\n",
       "    <tr style=\"text-align: right;\">\n",
       "      <th></th>\n",
       "      <th>AN</th>\n",
       "      <th>Seed</th>\n",
       "      <th>TAB</th>\n",
       "      <th>Topic</th>\n",
       "    </tr>\n",
       "  </thead>\n",
       "  <tbody>\n",
       "    <tr>\n",
       "      <th>0</th>\n",
       "      <td>1783</td>\n",
       "      <td></td>\n",
       "      <td>\"Anywhere but here\": Querying spatial stigma a...</td>\n",
       "      <td>4</td>\n",
       "    </tr>\n",
       "    <tr>\n",
       "      <th>1</th>\n",
       "      <td>4672</td>\n",
       "      <td></td>\n",
       "      <td>\"Are We Safe Analysts?\" Cisgender Countertrans...</td>\n",
       "      <td>2</td>\n",
       "    </tr>\n",
       "    <tr>\n",
       "      <th>2</th>\n",
       "      <td>4444</td>\n",
       "      <td></td>\n",
       "      <td>\"As a Trans Person You Don't Live. You Merely ...</td>\n",
       "      <td>2</td>\n",
       "    </tr>\n",
       "    <tr>\n",
       "      <th>3</th>\n",
       "      <td>22</td>\n",
       "      <td></td>\n",
       "      <td>\"At Your Service\": Sexual Harassment of Female...</td>\n",
       "      <td>0</td>\n",
       "    </tr>\n",
       "    <tr>\n",
       "      <th>4</th>\n",
       "      <td>2808</td>\n",
       "      <td></td>\n",
       "      <td>\"Bareback\" pornography consumption and safe-se...</td>\n",
       "      <td>5</td>\n",
       "    </tr>\n",
       "    <tr>\n",
       "      <th>...</th>\n",
       "      <td>...</td>\n",
       "      <td>...</td>\n",
       "      <td>...</td>\n",
       "      <td>...</td>\n",
       "    </tr>\n",
       "    <tr>\n",
       "      <th>10089</th>\n",
       "      <td>9737</td>\n",
       "      <td></td>\n",
       "      <td>â€˜Our favourite drugâ€™: Prevalence of use an...</td>\n",
       "      <td>7</td>\n",
       "    </tr>\n",
       "    <tr>\n",
       "      <th>10090</th>\n",
       "      <td>7231</td>\n",
       "      <td></td>\n",
       "      <td>â€˜Thatâ€™s not the kind of church we areâ€™: ...</td>\n",
       "      <td>8</td>\n",
       "    </tr>\n",
       "    <tr>\n",
       "      <th>10091</th>\n",
       "      <td>9145</td>\n",
       "      <td></td>\n",
       "      <td>â€˜The ownâ€™ and â€˜the wiseâ€™ as social sup...</td>\n",
       "      <td>1</td>\n",
       "    </tr>\n",
       "    <tr>\n",
       "      <th>10092</th>\n",
       "      <td>9104</td>\n",
       "      <td></td>\n",
       "      <td>â€˜Totally straightâ€™: Contested sexual ident...</td>\n",
       "      <td>8</td>\n",
       "    </tr>\n",
       "    <tr>\n",
       "      <th>10093</th>\n",
       "      <td>9044</td>\n",
       "      <td></td>\n",
       "      <td>â€žTransMenschen', Psychoanalyse und Psychothe...</td>\n",
       "      <td>2</td>\n",
       "    </tr>\n",
       "  </tbody>\n",
       "</table>\n",
       "<p>10094 rows × 4 columns</p>\n",
       "</div>"
      ],
      "text/plain": [
       "         AN Seed                                                TAB  Topic\n",
       "0      1783       \"Anywhere but here\": Querying spatial stigma a...      4\n",
       "1      4672       \"Are We Safe Analysts?\" Cisgender Countertrans...      2\n",
       "2      4444       \"As a Trans Person You Don't Live. You Merely ...      2\n",
       "3        22       \"At Your Service\": Sexual Harassment of Female...      0\n",
       "4      2808       \"Bareback\" pornography consumption and safe-se...      5\n",
       "...     ...  ...                                                ...    ...\n",
       "10089  9737       â€˜Our favourite drugâ€™: Prevalence of use an...      7\n",
       "10090  7231       â€˜Thatâ€™s not the kind of church we areâ€™: ...      8\n",
       "10091  9145       â€˜The ownâ€™ and â€˜the wiseâ€™ as social sup...      1\n",
       "10092  9104       â€˜Totally straightâ€™: Contested sexual ident...      8\n",
       "10093  9044       â€žTransMenschen', Psychoanalyse und Psychothe...      2\n",
       "\n",
       "[10094 rows x 4 columns]"
      ]
     },
     "execution_count": 249,
     "metadata": {},
     "output_type": "execute_result"
    }
   ],
   "source": [
    "df"
   ]
  },
  {
   "cell_type": "markdown",
   "id": "1fe5ba7f",
   "metadata": {},
   "source": [
    "### Looking for top terms"
   ]
  },
  {
   "cell_type": "code",
   "execution_count": 250,
   "id": "553afa83",
   "metadata": {},
   "outputs": [],
   "source": [
    "# order_centroids = model.cluster_centers_.argsort()[:, ::-1]\n",
    "order_centroids = H1.argsort()[:, ::-1]\n",
    "# terms = vectorizer.get_feature_names_out()\n",
    "terms = np.array(vectorizer.get_feature_names_out())"
   ]
  },
  {
   "cell_type": "code",
   "execution_count": 251,
   "id": "15ec8db8",
   "metadata": {},
   "outputs": [],
   "source": [
    "df2 = pd.DataFrame()\n",
    "for i in range(d):\n",
    "    subset_df = df[df.Topic == i].shape[0]\n",
    "\n",
    "    top_ten_words = [terms[ind] for ind in order_centroids[i, :10]]\n",
    "    data = {'TopicIndex': i, \n",
    "            'NumObs': subset_df,\n",
    "           'TopicKeyWords': top_ten_words}\n",
    "\n",
    "\n",
    "    df2 = df2.append(data, ignore_index=True)"
   ]
  },
  {
   "cell_type": "code",
   "execution_count": 252,
   "id": "83e999b6",
   "metadata": {},
   "outputs": [
    {
     "data": {
      "text/html": [
       "<div>\n",
       "<style scoped>\n",
       "    .dataframe tbody tr th:only-of-type {\n",
       "        vertical-align: middle;\n",
       "    }\n",
       "\n",
       "    .dataframe tbody tr th {\n",
       "        vertical-align: top;\n",
       "    }\n",
       "\n",
       "    .dataframe thead th {\n",
       "        text-align: right;\n",
       "    }\n",
       "</style>\n",
       "<table border=\"1\" class=\"dataframe\">\n",
       "  <thead>\n",
       "    <tr style=\"text-align: right;\">\n",
       "      <th></th>\n",
       "      <th>TopicIndex</th>\n",
       "      <th>NumObs</th>\n",
       "      <th>TopicKeyWords</th>\n",
       "    </tr>\n",
       "  </thead>\n",
       "  <tbody>\n",
       "    <tr>\n",
       "      <th>0</th>\n",
       "      <td>0.0</td>\n",
       "      <td>1170.0</td>\n",
       "      <td>[sexual, behavior, sexual behavior, orientatio...</td>\n",
       "    </tr>\n",
       "    <tr>\n",
       "      <th>1</th>\n",
       "      <td>1.0</td>\n",
       "      <td>1288.0</td>\n",
       "      <td>[hiv, msm, testing, risk, among, prep, prevent...</td>\n",
       "    </tr>\n",
       "    <tr>\n",
       "      <th>2</th>\n",
       "      <td>2.0</td>\n",
       "      <td>1543.0</td>\n",
       "      <td>[gender, transgender, identity, gender identit...</td>\n",
       "    </tr>\n",
       "    <tr>\n",
       "      <th>3</th>\n",
       "      <td>3.0</td>\n",
       "      <td>90.0</td>\n",
       "      <td>[de, la, en, que, el, las, los, se, con, del]</td>\n",
       "    </tr>\n",
       "    <tr>\n",
       "      <th>4</th>\n",
       "      <td>4.0</td>\n",
       "      <td>840.0</td>\n",
       "      <td>[health, mental, mental health, care, transgen...</td>\n",
       "    </tr>\n",
       "    <tr>\n",
       "      <th>5</th>\n",
       "      <td>5.0</td>\n",
       "      <td>961.0</td>\n",
       "      <td>[men, sex, msm, sex men, men sex, men sex men,...</td>\n",
       "    </tr>\n",
       "    <tr>\n",
       "      <th>6</th>\n",
       "      <td>6.0</td>\n",
       "      <td>389.0</td>\n",
       "      <td>[95, ci, 95 ci, aor, among, associated, preval...</td>\n",
       "    </tr>\n",
       "    <tr>\n",
       "      <th>7</th>\n",
       "      <td>7.0</td>\n",
       "      <td>802.0</td>\n",
       "      <td>[use, risk, alcohol, prep, substance, among, s...</td>\n",
       "    </tr>\n",
       "    <tr>\n",
       "      <th>8</th>\n",
       "      <td>8.0</td>\n",
       "      <td>2224.0</td>\n",
       "      <td>[study, gay, social, self, attitudes, rights, ...</td>\n",
       "    </tr>\n",
       "    <tr>\n",
       "      <th>9</th>\n",
       "      <td>9.0</td>\n",
       "      <td>787.0</td>\n",
       "      <td>[women, heterosexual, study, men, transgender ...</td>\n",
       "    </tr>\n",
       "  </tbody>\n",
       "</table>\n",
       "</div>"
      ],
      "text/plain": [
       "   TopicIndex  NumObs                                      TopicKeyWords\n",
       "0         0.0  1170.0  [sexual, behavior, sexual behavior, orientatio...\n",
       "1         1.0  1288.0  [hiv, msm, testing, risk, among, prep, prevent...\n",
       "2         2.0  1543.0  [gender, transgender, identity, gender identit...\n",
       "3         3.0    90.0      [de, la, en, que, el, las, los, se, con, del]\n",
       "4         4.0   840.0  [health, mental, mental health, care, transgen...\n",
       "5         5.0   961.0  [men, sex, msm, sex men, men sex, men sex men,...\n",
       "6         6.0   389.0  [95, ci, 95 ci, aor, among, associated, preval...\n",
       "7         7.0   802.0  [use, risk, alcohol, prep, substance, among, s...\n",
       "8         8.0  2224.0  [study, gay, social, self, attitudes, rights, ...\n",
       "9         9.0   787.0  [women, heterosexual, study, men, transgender ..."
      ]
     },
     "execution_count": 252,
     "metadata": {},
     "output_type": "execute_result"
    }
   ],
   "source": [
    "df2"
   ]
  },
  {
   "cell_type": "markdown",
   "id": "a7915f3b",
   "metadata": {},
   "source": [
    "### Concat df and df2 to final result"
   ]
  },
  {
   "cell_type": "code",
   "execution_count": 253,
   "id": "17e9b39b",
   "metadata": {},
   "outputs": [],
   "source": [
    "result = pd.concat([df, df2], axis=1)"
   ]
  },
  {
   "cell_type": "code",
   "execution_count": 254,
   "id": "b09c843b",
   "metadata": {},
   "outputs": [
    {
     "data": {
      "text/html": [
       "<div>\n",
       "<style scoped>\n",
       "    .dataframe tbody tr th:only-of-type {\n",
       "        vertical-align: middle;\n",
       "    }\n",
       "\n",
       "    .dataframe tbody tr th {\n",
       "        vertical-align: top;\n",
       "    }\n",
       "\n",
       "    .dataframe thead th {\n",
       "        text-align: right;\n",
       "    }\n",
       "</style>\n",
       "<table border=\"1\" class=\"dataframe\">\n",
       "  <thead>\n",
       "    <tr style=\"text-align: right;\">\n",
       "      <th></th>\n",
       "      <th>AN</th>\n",
       "      <th>Seed</th>\n",
       "      <th>TAB</th>\n",
       "      <th>Topic</th>\n",
       "      <th>TopicIndex</th>\n",
       "      <th>NumObs</th>\n",
       "      <th>TopicKeyWords</th>\n",
       "    </tr>\n",
       "  </thead>\n",
       "  <tbody>\n",
       "    <tr>\n",
       "      <th>0</th>\n",
       "      <td>1783</td>\n",
       "      <td></td>\n",
       "      <td>\"Anywhere but here\": Querying spatial stigma a...</td>\n",
       "      <td>4</td>\n",
       "      <td>0.0</td>\n",
       "      <td>1170.0</td>\n",
       "      <td>[sexual, behavior, sexual behavior, orientatio...</td>\n",
       "    </tr>\n",
       "    <tr>\n",
       "      <th>1</th>\n",
       "      <td>4672</td>\n",
       "      <td></td>\n",
       "      <td>\"Are We Safe Analysts?\" Cisgender Countertrans...</td>\n",
       "      <td>2</td>\n",
       "      <td>1.0</td>\n",
       "      <td>1288.0</td>\n",
       "      <td>[hiv, msm, testing, risk, among, prep, prevent...</td>\n",
       "    </tr>\n",
       "    <tr>\n",
       "      <th>2</th>\n",
       "      <td>4444</td>\n",
       "      <td></td>\n",
       "      <td>\"As a Trans Person You Don't Live. You Merely ...</td>\n",
       "      <td>2</td>\n",
       "      <td>2.0</td>\n",
       "      <td>1543.0</td>\n",
       "      <td>[gender, transgender, identity, gender identit...</td>\n",
       "    </tr>\n",
       "    <tr>\n",
       "      <th>3</th>\n",
       "      <td>22</td>\n",
       "      <td></td>\n",
       "      <td>\"At Your Service\": Sexual Harassment of Female...</td>\n",
       "      <td>0</td>\n",
       "      <td>3.0</td>\n",
       "      <td>90.0</td>\n",
       "      <td>[de, la, en, que, el, las, los, se, con, del]</td>\n",
       "    </tr>\n",
       "    <tr>\n",
       "      <th>4</th>\n",
       "      <td>2808</td>\n",
       "      <td></td>\n",
       "      <td>\"Bareback\" pornography consumption and safe-se...</td>\n",
       "      <td>5</td>\n",
       "      <td>4.0</td>\n",
       "      <td>840.0</td>\n",
       "      <td>[health, mental, mental health, care, transgen...</td>\n",
       "    </tr>\n",
       "    <tr>\n",
       "      <th>...</th>\n",
       "      <td>...</td>\n",
       "      <td>...</td>\n",
       "      <td>...</td>\n",
       "      <td>...</td>\n",
       "      <td>...</td>\n",
       "      <td>...</td>\n",
       "      <td>...</td>\n",
       "    </tr>\n",
       "    <tr>\n",
       "      <th>10089</th>\n",
       "      <td>9737</td>\n",
       "      <td></td>\n",
       "      <td>â€˜Our favourite drugâ€™: Prevalence of use an...</td>\n",
       "      <td>7</td>\n",
       "      <td>NaN</td>\n",
       "      <td>NaN</td>\n",
       "      <td>NaN</td>\n",
       "    </tr>\n",
       "    <tr>\n",
       "      <th>10090</th>\n",
       "      <td>7231</td>\n",
       "      <td></td>\n",
       "      <td>â€˜Thatâ€™s not the kind of church we areâ€™: ...</td>\n",
       "      <td>8</td>\n",
       "      <td>NaN</td>\n",
       "      <td>NaN</td>\n",
       "      <td>NaN</td>\n",
       "    </tr>\n",
       "    <tr>\n",
       "      <th>10091</th>\n",
       "      <td>9145</td>\n",
       "      <td></td>\n",
       "      <td>â€˜The ownâ€™ and â€˜the wiseâ€™ as social sup...</td>\n",
       "      <td>1</td>\n",
       "      <td>NaN</td>\n",
       "      <td>NaN</td>\n",
       "      <td>NaN</td>\n",
       "    </tr>\n",
       "    <tr>\n",
       "      <th>10092</th>\n",
       "      <td>9104</td>\n",
       "      <td></td>\n",
       "      <td>â€˜Totally straightâ€™: Contested sexual ident...</td>\n",
       "      <td>8</td>\n",
       "      <td>NaN</td>\n",
       "      <td>NaN</td>\n",
       "      <td>NaN</td>\n",
       "    </tr>\n",
       "    <tr>\n",
       "      <th>10093</th>\n",
       "      <td>9044</td>\n",
       "      <td></td>\n",
       "      <td>â€žTransMenschen', Psychoanalyse und Psychothe...</td>\n",
       "      <td>2</td>\n",
       "      <td>NaN</td>\n",
       "      <td>NaN</td>\n",
       "      <td>NaN</td>\n",
       "    </tr>\n",
       "  </tbody>\n",
       "</table>\n",
       "<p>10094 rows × 7 columns</p>\n",
       "</div>"
      ],
      "text/plain": [
       "         AN Seed                                                TAB  Topic  \\\n",
       "0      1783       \"Anywhere but here\": Querying spatial stigma a...      4   \n",
       "1      4672       \"Are We Safe Analysts?\" Cisgender Countertrans...      2   \n",
       "2      4444       \"As a Trans Person You Don't Live. You Merely ...      2   \n",
       "3        22       \"At Your Service\": Sexual Harassment of Female...      0   \n",
       "4      2808       \"Bareback\" pornography consumption and safe-se...      5   \n",
       "...     ...  ...                                                ...    ...   \n",
       "10089  9737       â€˜Our favourite drugâ€™: Prevalence of use an...      7   \n",
       "10090  7231       â€˜Thatâ€™s not the kind of church we areâ€™: ...      8   \n",
       "10091  9145       â€˜The ownâ€™ and â€˜the wiseâ€™ as social sup...      1   \n",
       "10092  9104       â€˜Totally straightâ€™: Contested sexual ident...      8   \n",
       "10093  9044       â€žTransMenschen', Psychoanalyse und Psychothe...      2   \n",
       "\n",
       "       TopicIndex  NumObs                                      TopicKeyWords  \n",
       "0             0.0  1170.0  [sexual, behavior, sexual behavior, orientatio...  \n",
       "1             1.0  1288.0  [hiv, msm, testing, risk, among, prep, prevent...  \n",
       "2             2.0  1543.0  [gender, transgender, identity, gender identit...  \n",
       "3             3.0    90.0      [de, la, en, que, el, las, los, se, con, del]  \n",
       "4             4.0   840.0  [health, mental, mental health, care, transgen...  \n",
       "...           ...     ...                                                ...  \n",
       "10089         NaN     NaN                                                NaN  \n",
       "10090         NaN     NaN                                                NaN  \n",
       "10091         NaN     NaN                                                NaN  \n",
       "10092         NaN     NaN                                                NaN  \n",
       "10093         NaN     NaN                                                NaN  \n",
       "\n",
       "[10094 rows x 7 columns]"
      ]
     },
     "execution_count": 254,
     "metadata": {},
     "output_type": "execute_result"
    }
   ],
   "source": [
    "result"
   ]
  },
  {
   "cell_type": "code",
   "execution_count": 255,
   "id": "6d77fd0d",
   "metadata": {},
   "outputs": [
    {
     "data": {
      "text/html": [
       "<div>\n",
       "<style scoped>\n",
       "    .dataframe tbody tr th:only-of-type {\n",
       "        vertical-align: middle;\n",
       "    }\n",
       "\n",
       "    .dataframe tbody tr th {\n",
       "        vertical-align: top;\n",
       "    }\n",
       "\n",
       "    .dataframe thead th {\n",
       "        text-align: right;\n",
       "    }\n",
       "</style>\n",
       "<table border=\"1\" class=\"dataframe\">\n",
       "  <thead>\n",
       "    <tr style=\"text-align: right;\">\n",
       "      <th></th>\n",
       "      <th>AN</th>\n",
       "      <th>Seed</th>\n",
       "      <th>TAB</th>\n",
       "      <th>Topic</th>\n",
       "      <th>TopicIndex</th>\n",
       "      <th>NumObs</th>\n",
       "      <th>TopicKeyWords</th>\n",
       "    </tr>\n",
       "  </thead>\n",
       "  <tbody>\n",
       "    <tr>\n",
       "      <th>0</th>\n",
       "      <td>1783</td>\n",
       "      <td></td>\n",
       "      <td>\"Anywhere but here\": Querying spatial stigma a...</td>\n",
       "      <td>4</td>\n",
       "      <td>0.0</td>\n",
       "      <td>1170.0</td>\n",
       "      <td>[sexual, behavior, sexual behavior, orientatio...</td>\n",
       "    </tr>\n",
       "    <tr>\n",
       "      <th>1</th>\n",
       "      <td>4672</td>\n",
       "      <td></td>\n",
       "      <td>\"Are We Safe Analysts?\" Cisgender Countertrans...</td>\n",
       "      <td>2</td>\n",
       "      <td>1.0</td>\n",
       "      <td>1288.0</td>\n",
       "      <td>[hiv, msm, testing, risk, among, prep, prevent...</td>\n",
       "    </tr>\n",
       "    <tr>\n",
       "      <th>2</th>\n",
       "      <td>4444</td>\n",
       "      <td></td>\n",
       "      <td>\"As a Trans Person You Don't Live. You Merely ...</td>\n",
       "      <td>2</td>\n",
       "      <td>2.0</td>\n",
       "      <td>1543.0</td>\n",
       "      <td>[gender, transgender, identity, gender identit...</td>\n",
       "    </tr>\n",
       "    <tr>\n",
       "      <th>3</th>\n",
       "      <td>22</td>\n",
       "      <td></td>\n",
       "      <td>\"At Your Service\": Sexual Harassment of Female...</td>\n",
       "      <td>0</td>\n",
       "      <td>3.0</td>\n",
       "      <td>90.0</td>\n",
       "      <td>[de, la, en, que, el, las, los, se, con, del]</td>\n",
       "    </tr>\n",
       "    <tr>\n",
       "      <th>4</th>\n",
       "      <td>2808</td>\n",
       "      <td></td>\n",
       "      <td>\"Bareback\" pornography consumption and safe-se...</td>\n",
       "      <td>5</td>\n",
       "      <td>4.0</td>\n",
       "      <td>840.0</td>\n",
       "      <td>[health, mental, mental health, care, transgen...</td>\n",
       "    </tr>\n",
       "    <tr>\n",
       "      <th>5</th>\n",
       "      <td>5589</td>\n",
       "      <td></td>\n",
       "      <td>\"Be a Man\": The Role of Social Pressure in Eli...</td>\n",
       "      <td>5</td>\n",
       "      <td>5.0</td>\n",
       "      <td>961.0</td>\n",
       "      <td>[men, sex, msm, sex men, men sex, men sex men,...</td>\n",
       "    </tr>\n",
       "    <tr>\n",
       "      <th>6</th>\n",
       "      <td>9994</td>\n",
       "      <td></td>\n",
       "      <td>\"Because your dysphoria gets in the way of you...</td>\n",
       "      <td>0</td>\n",
       "      <td>6.0</td>\n",
       "      <td>389.0</td>\n",
       "      <td>[95, ci, 95 ci, aor, among, associated, preval...</td>\n",
       "    </tr>\n",
       "    <tr>\n",
       "      <th>7</th>\n",
       "      <td>3165</td>\n",
       "      <td></td>\n",
       "      <td>\"But the moment they find out that you are MSM...</td>\n",
       "      <td>1</td>\n",
       "      <td>7.0</td>\n",
       "      <td>802.0</td>\n",
       "      <td>[use, risk, alcohol, prep, substance, among, s...</td>\n",
       "    </tr>\n",
       "    <tr>\n",
       "      <th>8</th>\n",
       "      <td>3946</td>\n",
       "      <td></td>\n",
       "      <td>\"Diagnosing\" Gender? Categorizing Gender-Ident...</td>\n",
       "      <td>2</td>\n",
       "      <td>8.0</td>\n",
       "      <td>2224.0</td>\n",
       "      <td>[study, gay, social, self, attitudes, rights, ...</td>\n",
       "    </tr>\n",
       "    <tr>\n",
       "      <th>9</th>\n",
       "      <td>5460</td>\n",
       "      <td></td>\n",
       "      <td>\"Feeling Safe, Feeling Seen, Feeling Free\": Co...</td>\n",
       "      <td>4</td>\n",
       "      <td>9.0</td>\n",
       "      <td>787.0</td>\n",
       "      <td>[women, heterosexual, study, men, transgender ...</td>\n",
       "    </tr>\n",
       "  </tbody>\n",
       "</table>\n",
       "</div>"
      ],
      "text/plain": [
       "     AN Seed                                                TAB  Topic  \\\n",
       "0  1783       \"Anywhere but here\": Querying spatial stigma a...      4   \n",
       "1  4672       \"Are We Safe Analysts?\" Cisgender Countertrans...      2   \n",
       "2  4444       \"As a Trans Person You Don't Live. You Merely ...      2   \n",
       "3    22       \"At Your Service\": Sexual Harassment of Female...      0   \n",
       "4  2808       \"Bareback\" pornography consumption and safe-se...      5   \n",
       "5  5589       \"Be a Man\": The Role of Social Pressure in Eli...      5   \n",
       "6  9994       \"Because your dysphoria gets in the way of you...      0   \n",
       "7  3165       \"But the moment they find out that you are MSM...      1   \n",
       "8  3946       \"Diagnosing\" Gender? Categorizing Gender-Ident...      2   \n",
       "9  5460       \"Feeling Safe, Feeling Seen, Feeling Free\": Co...      4   \n",
       "\n",
       "   TopicIndex  NumObs                                      TopicKeyWords  \n",
       "0         0.0  1170.0  [sexual, behavior, sexual behavior, orientatio...  \n",
       "1         1.0  1288.0  [hiv, msm, testing, risk, among, prep, prevent...  \n",
       "2         2.0  1543.0  [gender, transgender, identity, gender identit...  \n",
       "3         3.0    90.0      [de, la, en, que, el, las, los, se, con, del]  \n",
       "4         4.0   840.0  [health, mental, mental health, care, transgen...  \n",
       "5         5.0   961.0  [men, sex, msm, sex men, men sex, men sex men,...  \n",
       "6         6.0   389.0  [95, ci, 95 ci, aor, among, associated, preval...  \n",
       "7         7.0   802.0  [use, risk, alcohol, prep, substance, among, s...  \n",
       "8         8.0  2224.0  [study, gay, social, self, attitudes, rights, ...  \n",
       "9         9.0   787.0  [women, heterosexual, study, men, transgender ...  "
      ]
     },
     "execution_count": 255,
     "metadata": {},
     "output_type": "execute_result"
    }
   ],
   "source": [
    "result.head(10)"
   ]
  }
 ],
 "metadata": {
  "kernelspec": {
   "display_name": "Python 3 (ipykernel)",
   "language": "python",
   "name": "python3"
  },
  "language_info": {
   "codemirror_mode": {
    "name": "ipython",
    "version": 3
   },
   "file_extension": ".py",
   "mimetype": "text/x-python",
   "name": "python",
   "nbconvert_exporter": "python",
   "pygments_lexer": "ipython3",
   "version": "3.9.7"
  }
 },
 "nbformat": 4,
 "nbformat_minor": 5
}
