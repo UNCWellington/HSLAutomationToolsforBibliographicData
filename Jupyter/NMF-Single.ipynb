{
 "cells": [
  {
   "cell_type": "markdown",
   "id": "3883682e",
   "metadata": {},
   "source": [
    "# Topic Modeling with Single NMF Model\n",
    "Solution: use K-mean model to output\n",
    "Source: seed_sample_2000_input.csv"
   ]
  },
  {
   "cell_type": "markdown",
   "id": "a4da7279",
   "metadata": {},
   "source": [
    "## Source"
   ]
  },
  {
   "cell_type": "markdown",
   "id": "e4656cf0",
   "metadata": {},
   "source": [
    "\n",
    "<img src=\"images/source-input-seed-2000.png\" alt=\"term-document matrix\" style=\"width: 80%\"/>"
   ]
  },
  {
   "cell_type": "markdown",
   "id": "ff1d676d",
   "metadata": {},
   "source": [
    "### import necessary library"
   ]
  },
  {
   "cell_type": "code",
   "execution_count": 349,
   "id": "2d36a6a6",
   "metadata": {},
   "outputs": [],
   "source": [
    "from flask import Flask, request, redirect, render_template, Response, send_file, send_from_directory\n",
    "from flask_wtf import FlaskForm\n",
    "from wtforms import SelectMultipleField\n",
    "from flask_bootstrap import Bootstrap\n",
    "from os.path import join, dirname, realpath\n",
    "import pandas as pd\n",
    "# from sklearn.feature_extraction.text import TfidfVectorizer\n",
    "from sklearn.feature_extraction.text import TfidfVectorizer, CountVectorizer  # add CountVectorizer for NMF\n",
    "from sklearn.cluster import KMeans\n",
    "from datetime import datetime\n",
    "import io, os\n",
    "import numpy as np"
   ]
  },
  {
   "cell_type": "markdown",
   "id": "b1af1226",
   "metadata": {},
   "source": [
    "### Import library for stopwords"
   ]
  },
  {
   "cell_type": "code",
   "execution_count": 350,
   "id": "9d79143c",
   "metadata": {},
   "outputs": [],
   "source": [
    "from sklearn import decomposition\n",
    "import matplotlib.pyplot as plt\n",
    "import re\n",
    "import nltk\n",
    "from nltk.stem.porter import PorterStemmer\n",
    "from sklearn.model_selection import train_test_split"
   ]
  },
  {
   "cell_type": "code",
   "execution_count": 351,
   "id": "97399f98",
   "metadata": {},
   "outputs": [
    {
     "name": "stderr",
     "output_type": "stream",
     "text": [
      "[nltk_data] Downloading package punkt to\n",
      "[nltk_data]     /Users/shouqiangye/nltk_data...\n",
      "[nltk_data]   Package punkt is already up-to-date!\n"
     ]
    },
    {
     "data": {
      "text/plain": [
       "True"
      ]
     },
     "execution_count": 351,
     "metadata": {},
     "output_type": "execute_result"
    }
   ],
   "source": [
    "nltk.download('punkt')"
   ]
  },
  {
   "cell_type": "markdown",
   "id": "eff90469",
   "metadata": {},
   "source": [
    "### Set DF from csv file\n",
    "Source 1: <a href=\"https://github.com/UNCWellington/AI-tools/blob/main/seed_sample_2000_input.csv?raw=true\">seed_sample_2000_input.csv</a>  only 2000 rows  \n",
    "\n",
    "Source 2: <a href=\"https://github.com/UNCWellington/AI-tools/blob/main/Sample-for-SC.csv?raw=true\">Sample-for-SC.csv   </a> nearly 10,000 rows\n",
    "Note: we shoud add ?raw=true at the end of github link address"
   ]
  },
  {
   "cell_type": "code",
   "execution_count": 352,
   "id": "c6e20c14",
   "metadata": {},
   "outputs": [],
   "source": [
    "url = 'https://github.com/UNCWellington/AI-tools/blob/main/seed_sample_2000_input.csv?raw=true'\n",
    "# url = 'https://github.com/UNCWellington/AI-tools/blob/main/Sample-for-SC.csv?raw=true'\n",
    "# df = pd.read_csv(url,index_col=0)\n",
    "df = pd.read_csv(url, keep_default_na=False)"
   ]
  },
  {
   "cell_type": "code",
   "execution_count": 353,
   "id": "9ea56dd4",
   "metadata": {
    "scrolled": true
   },
   "outputs": [
    {
     "data": {
      "text/html": [
       "<div>\n",
       "<style scoped>\n",
       "    .dataframe tbody tr th:only-of-type {\n",
       "        vertical-align: middle;\n",
       "    }\n",
       "\n",
       "    .dataframe tbody tr th {\n",
       "        vertical-align: top;\n",
       "    }\n",
       "\n",
       "    .dataframe thead th {\n",
       "        text-align: right;\n",
       "    }\n",
       "</style>\n",
       "<table border=\"1\" class=\"dataframe\">\n",
       "  <thead>\n",
       "    <tr style=\"text-align: right;\">\n",
       "      <th></th>\n",
       "      <th>AN</th>\n",
       "      <th>TAB</th>\n",
       "      <th>Seed</th>\n",
       "    </tr>\n",
       "  </thead>\n",
       "  <tbody>\n",
       "    <tr>\n",
       "      <th>0</th>\n",
       "      <td>1000</td>\n",
       "      <td>Urban Growth Dynamics and Changing Land-Use La...</td>\n",
       "      <td></td>\n",
       "    </tr>\n",
       "    <tr>\n",
       "      <th>1</th>\n",
       "      <td>1001</td>\n",
       "      <td>Reduction in exposure to arsenic from drinking...</td>\n",
       "      <td>1</td>\n",
       "    </tr>\n",
       "    <tr>\n",
       "      <th>2</th>\n",
       "      <td>1002</td>\n",
       "      <td>Optimization of phenol adsorption onto biochar...</td>\n",
       "      <td></td>\n",
       "    </tr>\n",
       "    <tr>\n",
       "      <th>3</th>\n",
       "      <td>1003</td>\n",
       "      <td>Long-term trends in hydrochemistry in the Para...</td>\n",
       "      <td></td>\n",
       "    </tr>\n",
       "    <tr>\n",
       "      <th>4</th>\n",
       "      <td>1004</td>\n",
       "      <td>Application research of crosshole electromagne...</td>\n",
       "      <td></td>\n",
       "    </tr>\n",
       "  </tbody>\n",
       "</table>\n",
       "</div>"
      ],
      "text/plain": [
       "     AN                                                TAB Seed\n",
       "0  1000  Urban Growth Dynamics and Changing Land-Use La...     \n",
       "1  1001  Reduction in exposure to arsenic from drinking...    1\n",
       "2  1002  Optimization of phenol adsorption onto biochar...     \n",
       "3  1003  Long-term trends in hydrochemistry in the Para...     \n",
       "4  1004  Application research of crosshole electromagne...     "
      ]
     },
     "execution_count": 353,
     "metadata": {},
     "output_type": "execute_result"
    }
   ],
   "source": [
    "df.head()"
   ]
  },
  {
   "cell_type": "markdown",
   "id": "587ef865",
   "metadata": {},
   "source": [
    "## Stop words, stemming, lemmatization"
   ]
  },
  {
   "cell_type": "code",
   "execution_count": 354,
   "id": "dabbac4a",
   "metadata": {
    "scrolled": true
   },
   "outputs": [
    {
     "name": "stderr",
     "output_type": "stream",
     "text": [
      "[nltk_data] Downloading package stopwords to\n",
      "[nltk_data]     /Users/shouqiangye/nltk_data...\n",
      "[nltk_data]   Package stopwords is already up-to-date!\n"
     ]
    }
   ],
   "source": [
    "stemmer = nltk.stem.SnowballStemmer('english')\n",
    "nltk.download('stopwords')\n",
    "stopwords = set(nltk.corpus.stopwords.words('english'))"
   ]
  },
  {
   "cell_type": "markdown",
   "id": "747ad4e8",
   "metadata": {},
   "source": [
    "## Data Processing"
   ]
  },
  {
   "cell_type": "markdown",
   "id": "33313e52",
   "metadata": {},
   "source": [
    "Next, scikit learn has a method that will extract all the word counts for us"
   ]
  },
  {
   "cell_type": "code",
   "execution_count": 355,
   "id": "140a3589",
   "metadata": {},
   "outputs": [],
   "source": [
    "documents = df['TAB'].values.astype(\"U\")"
   ]
  },
  {
   "cell_type": "code",
   "execution_count": 356,
   "id": "b363cef9",
   "metadata": {},
   "outputs": [
    {
     "data": {
      "text/plain": [
       "array(['Urban Growth Dynamics and Changing Land-Use Land-Cover of Megacity Kolkata and Its Environs Spatio-temporal land-use land-cover changes have a long-term impact on urban environments. The present study is based on land-use land-cover changes and urban expansion of megacity Kolkata and its environs over three decades (1991-2018) using multitemporal Landsat data. The study aims to explore and explain the spatio-temporal land-use land-cover change, areal differentiation, spatio-temporal urban growth trajectory and future land-use land-cover prediction with population projection. The spatio-temporal representation found rapid urbanization, i.e. 19% to 57%, exactly three times as in 1991, resulting in significant loss of other than urban/built-up area. Urban trajectory reveals that the expansion mainly occurred in north-east to south-west direction, the zone of both sides of River Hooghly. Areal differentiation map with highest urbanization (3146 ha or UII = 0.64) was identified in the north-north-west part, while least urbanization was identified in the east-north-east direction. On the other hand, this urbanization has grabbed most (i.e. 87%) of the areas within 5-km ring buffer compared to other three ring buffers. Being Kolkata as a traditional city, it has all modern facilities since British rule; as a result, the high population growth and rapid urban expansion were explored in the study. Therefore, urban growth led to radical changes in land-use land-cover, which were witnessed by sharp decreases in sparse vegetation and fallow land. The correlation explained that increasing urbanization has decreased the amount of water body and vegetation. The future prediction graph identified the more horrible picture: the city and its environs will be covered by 67% built-up, while there will be only 3% water body, 14% vegetation and 16% fallow land of the total geographical area with a population (projection) of 28 million in 2051 if it is continued. Such expansion will create a wide range of mismanagement and environmental problems. Hence, the intensive explanation and areal differentiation maps and diagrams prepared using geospatial data will definitely help to understand the urban growth dynamics process and changing form of land-use land-cover and simultaneously decision-making process of the local planners, stakeholders and academicians. Therefore, it also guides to future planning to decrease the adverse effects of urbanization and result in the form of land-use land-cover and makes an eco-friendly megacity as well as sustainable urban development too.',\n",
       "       'Reduction in exposure to arsenic from drinking well-water in Bangladesh limited by insufficient testing and awareness This study considers potential policy responses to the still very high levels of exposure to arsenic (As) caused by drinking water from shallow tubewells in rural Bangladesh. It examines a survey of 4,109 households in 76 villages of Araihazar upazila conducted two years after a national testing campaign swept through the area. The area is adjacent to the region where a long-term study was initiated in 2000 and where households are periodically reminded of health risks associated with well-water elevated in As. Results confirm that testing spurs switching away from unsafe wells, although the 27% fraction who switched was only about half of that in the long-term study area. By village, the fraction of households that switched varied with the availability of safe wells and the distance from the long-term study area. Lacking follow-up testing, two years only after the campaign 21% of households did not know the status of their well and 21% of households with an unsafe well that switched did so to an untested well. Well testing is again urgently needed in Bangladesh and should be paired with better ways to raise awareness and the installation of additional deep community wells.',\n",
       "       'Optimization of phenol adsorption onto biochar from oil palm empty fruit bunch (EFB) Malaysia, as one of the leading palm oil producers in the world faces problems in disposal of oil palm empty fruit bunch (EFB), which can be converted into various value-added products, including adsorbents. This study investigated the adsorption of phenol from its solution using biochar produced from EFB through carbonization. Response Surface Methodology (RSM) with Box-Behnken design was used to investigate the effects of three parameters (temperature, time and heating rate) during carbonization on phenol removal by the biochar produced. This was followed by process optimization based on statistical analysis. The results indicated that the optimized carbonization conditions were; 500 degrees C for temperature, 10 degrees C/min of heating rate and 80 min for reaction tim which led to 7.57% of phenol removal. SEM revealed coarse and uneven surface of the biochar surface, with small degree of pore development. Comparison between FTIR spectrum of EFB and biochar revealed the loss water and hydroxyl compounds from EFB during carbonization. The lack of oxygenated groups (especially carbonyl groups) on the adsorbent surface as well as limited number of pores were the possible reasons leading to low phenol adsorption by biochar, therefore conversion of the biochar to activated carbon was necessary for higher adsorption performance.',\n",
       "       ...,\n",
       "       'A Quantitative Process-Based Inventory Study on Material Embodied Carbon Emissions of Residential, Office, and Commercial Buildings in China Studies on building carbon emissions focus mainly on the materialization phase of life cycle, as carbon emissions in this stage is intensive and high. This paper proposes a simplified model to calculate embodied carbon emissions in building design stage by conducting a process-based inventory analysis of carbon emissions from materials used in 129 residential buildings, 41 office buildings, and 21 commercial buildings during materialization phase. The results indicate that average carbon emissions per unit area from building materials used in residential buildings, office buildings, and commercial buildings are 514.66 kgCO(2)e/m(2), 533.69 kgCO(2)e/m(2) and 494.19 kgCO(2)e/m(2), respectively. Besides, ten kinds of building materials (namely, steel, commercial concrete, wall building materials, mortar, copper core cables, architectural ceramics, PVC pipes, thermal insulation materials, doors and windows, and water paint) constitute 99% of total carbon emissions in all three types of buildings. These materials are major carbon emissions sources in materialization phase. Thus, embodied carbon emissions can be significantly reduced by limiting the amount of these materials in architectural design as well as by using environmental friendly materials.',\n",
       "       'Treatment of Low Biodegradability Leachates in a Serial System of Aged Refuse-Filled Bioreactors This paper presents a technology based on the use of aged refuse that has proven to be highly effective in the treatment of low biodegradability leachates. The tests were developed using two filled bioreactors arranged in series and operated at steady state. The aged refuse used as filling material was extracted from a city located in the southeast of Mexico and characterized by particle size, humidity, volatile solids, and volumetric weight. On the other hand, bacterial characterization made it possible to identify the presence of species related to the degradation and mineralization of organic compounds, as well as to processes of nitrification or reduction of phosphates and Cr (VI). The bioreactor system was operated under four hydraulic loads (10, 20, 35, and 50 L/m(3)d). Maximum removal efficiencies of 85, 86.1, 87.9, 98.6, 97.8, and 97.4% were achieved in COD, BOD5, Color, TP, TN, and N-NH3, respectively, complying with Mexican regulations (NOM-001-SEMARNAT-1996). The system also proved to be stable against shock loads, such as organic load fluctuations in the influent or pH variations. The results of this study show that, in countries such as Mexico, aged refuse extracted from landfills represents a promising option as a sustainable alternative for leachate treatment.',\n",
       "       \"The regulatory role of endogenous iron on greenhouse gas emissions under intensive nitrogen fertilization in subtropical soils of China Anaerobic batch experiments were conducted to study the regulatory role of endogenous iron in greenhouse gas emissions under intensive nitrogen fertilization in subtropical soils of China. Fe(2+), Fe(3+), and NO(3)(-)-N dynamics and N(2)O, CH(4), and CO(2) emissions, as well as the relationships between N fertilizer, endogenous iron, and greenhouse gas emissions were investigated. The emissions of N(2)O increased to different extents from all the test soils by N1 (260Â\\xa0mgÂ\\xa0NÂ\\xa0kg(-1)) application compared with N0. After 24Â\\xa0days of anaerobic incubation, the cumulative emissions of N(2)O from red soils in De'an (DR) were significantly higher than that from paddy soils in De'an (DP) and Qujialing (QP) under N1. However, N application enhanced CH(4) and CO(2) emissions from the red soils slightly but inhibited the emissions from paddy soils. The maximal CH(4) and CO(2) emission fluxes occurred in DP soil without N input. Pearson's correlation analysis showed that there were significant correlations (Pâ€‰<â€‰0.01) between Fe(2+) and Fe(3+), NO(3)(-)-N, (N(2)O + N(2))-N concentrations in DP soil, implying that Fe(2+) oxidation was coupled with nitrate reduction accompanied by (N(2)O + N(2))-N emissions and the endogenous iron played a regulatory role in greenhouse gas emissions mainly through the involvement in denitrification. The proportion of the electrons donated by Fe(2+) used for N(2)O production in denitrification in DP soil was approximately 37.53%. Moreover, positive correlations between Fe(2+) and CH(4), CO(2) were found in both DR and QP soils, suggesting that endogenous iron might regulate the anaerobic decomposition of organic carbon to CH(4) and CO(2) in the two soils. Soil pH was also an important factor controlling greenhouse gas emissions by affecting endogenous iron availability and C and N transformation processes.\"],\n",
       "      dtype='<U10293')"
      ]
     },
     "execution_count": 356,
     "metadata": {},
     "output_type": "execute_result"
    }
   ],
   "source": [
    "documents"
   ]
  },
  {
   "cell_type": "code",
   "execution_count": 357,
   "id": "532a5fe1",
   "metadata": {},
   "outputs": [],
   "source": [
    "# vectorizer = TfidfVectorizer(stop_words=stopwords, ngram_range=(1, 2))\n",
    "#features = vectorizer.fit_transform(documents)"
   ]
  },
  {
   "cell_type": "code",
   "execution_count": 358,
   "id": "20812dd1",
   "metadata": {},
   "outputs": [],
   "source": [
    "vectorizer = CountVectorizer(stop_words='english') "
   ]
  },
  {
   "cell_type": "code",
   "execution_count": 359,
   "id": "a8a20558",
   "metadata": {},
   "outputs": [
    {
     "data": {
      "text/plain": [
       "(1999, 26513)"
      ]
     },
     "execution_count": 359,
     "metadata": {},
     "output_type": "execute_result"
    }
   ],
   "source": [
    "vectors = vectorizer.fit_transform(documents).todense() # (documents, vocab)\n",
    "vectors.shape #, vectors.nnz / vectors.shape[0], row_means.shape"
   ]
  },
  {
   "cell_type": "code",
   "execution_count": 360,
   "id": "d1b012f9",
   "metadata": {},
   "outputs": [
    {
     "name": "stdout",
     "output_type": "stream",
     "text": [
      "1999 (1999, 26513)\n"
     ]
    }
   ],
   "source": [
    "print(len(documents), vectors.shape)"
   ]
  },
  {
   "cell_type": "code",
   "execution_count": 361,
   "id": "585273c9",
   "metadata": {},
   "outputs": [],
   "source": [
    "# vocab = np.array(vectorizer.get_feature_names_out())\n",
    "# we change vocab variable to terms\n",
    "terms = np.array(vectorizer.get_feature_names_out())"
   ]
  },
  {
   "cell_type": "code",
   "execution_count": 363,
   "id": "4ad03685",
   "metadata": {},
   "outputs": [
    {
     "data": {
      "text/plain": [
       "(26513,)"
      ]
     },
     "execution_count": 363,
     "metadata": {},
     "output_type": "execute_result"
    }
   ],
   "source": [
    "terms.shape"
   ]
  },
  {
   "cell_type": "code",
   "execution_count": 364,
   "id": "8cd6464c",
   "metadata": {},
   "outputs": [
    {
     "data": {
      "text/plain": [
       "array(['cvds', 'cvocs', 'cwc', 'cwt', 'cwwtp', 'cyanidation', 'cyanide',\n",
       "       'cyanides', 'cyanobacteria', 'cyanobacterial', 'cyanohab',\n",
       "       'cyanohabs', 'cyanophyta', 'cyanoprokaryotic', 'cyanotoxin',\n",
       "       'cyanotoxins', 'cycle', 'cycles', 'cyclic', 'cyclical'],\n",
       "      dtype=object)"
      ]
     },
     "execution_count": 364,
     "metadata": {},
     "output_type": "execute_result"
    }
   ],
   "source": [
    "terms[7000:7020]"
   ]
  },
  {
   "cell_type": "markdown",
   "id": "d6d8c8b4",
   "metadata": {},
   "source": [
    "## Non-negative Matrix Factorization (NMF)"
   ]
  },
  {
   "cell_type": "markdown",
   "id": "7a11b1fe",
   "metadata": {},
   "source": [
    "#### Applications of NMF"
   ]
  },
  {
   "cell_type": "markdown",
   "id": "37519cc6",
   "metadata": {},
   "source": [
    "\n",
    "- Topic Modeling (our problem!)\n",
    "\n",
    "<img src=\"images/nmf_doc.png\" alt=\"NMF on documents\" style=\"width: 80%\"/>\n",
    "\n"
   ]
  },
  {
   "cell_type": "markdown",
   "id": "353859e1",
   "metadata": {},
   "source": [
    "### NMF from sklearn"
   ]
  },
  {
   "cell_type": "markdown",
   "id": "2e5993cf",
   "metadata": {},
   "source": [
    "We will use [scikit-learn's implementation of NMF](http://scikit-learn.org/stable/modules/generated/sklearn.decomposition.NMF.html):"
   ]
  },
  {
   "cell_type": "code",
   "execution_count": 365,
   "id": "e2d47c35",
   "metadata": {},
   "outputs": [],
   "source": [
    "m,n=vectors.shape\n",
    "d=10  # num topics"
   ]
  },
  {
   "cell_type": "code",
   "execution_count": 366,
   "id": "7d8c0bc2",
   "metadata": {},
   "outputs": [],
   "source": [
    "clf = decomposition.NMF(n_components=d, random_state=3425)"
   ]
  },
  {
   "cell_type": "code",
   "execution_count": 367,
   "id": "7ccc47ec",
   "metadata": {
    "scrolled": true
   },
   "outputs": [
    {
     "name": "stderr",
     "output_type": "stream",
     "text": [
      "/Users/shouqiangye/opt/anaconda3/lib/python3.9/site-packages/sklearn/utils/validation.py:593: FutureWarning: np.matrix usage is deprecated in 1.0 and will raise a TypeError in 1.2. Please convert to a numpy array with np.asarray. For more information see: https://numpy.org/doc/stable/reference/generated/numpy.matrix.html\n",
      "  warnings.warn(\n",
      "/Users/shouqiangye/opt/anaconda3/lib/python3.9/site-packages/sklearn/decomposition/_nmf.py:289: FutureWarning: The 'init' value, when 'init=None' and n_components is less than n_samples and n_features, will be changed from 'nndsvd' to 'nndsvda' in 1.1 (renaming of 0.26).\n",
      "  warnings.warn(\n"
     ]
    }
   ],
   "source": [
    "W1 = clf.fit_transform(vectors)\n",
    "H1 = clf.components_"
   ]
  },
  {
   "cell_type": "code",
   "execution_count": 368,
   "id": "c2c1c4b1",
   "metadata": {},
   "outputs": [],
   "source": [
    "num_top_words=10\n",
    "def show_topics(a):\n",
    "    top_words = lambda t: [terms[i] for i in np.argsort(t)[:-num_top_words-1:-1]]\n",
    "    topic_words = ([top_words(t) for t in a])\n",
    "    return [' '.join(t) for t in topic_words]"
   ]
  },
  {
   "cell_type": "code",
   "execution_count": 369,
   "id": "28cb2ad0",
   "metadata": {
    "scrolled": true
   },
   "outputs": [
    {
     "data": {
      "text/plain": [
       "['water drinking supply quality irrigation use nutrient management treatment resources',\n",
       " 'groundwater area quality study samples aquifer irrigation wells concentrations shallow',\n",
       " 'fluid deposits gold hydrothermal mineralization type ore stage deposit similar',\n",
       " 'arsenic exposure drinking skin concentrations bangladesh associated urinary levels study',\n",
       " 'soil soils organic nutrient crop increased plant content carbon nutrients',\n",
       " 'study model using used data results energy based method gas',\n",
       " 'health risk children drinking study human exposure 95 factors assessment',\n",
       " 'mg samples heavy concentration metals concentrations kg adsorption cr pb',\n",
       " 'river quality pollution basin water china total analysis source watershed',\n",
       " 'land use area urban change cover forest watershed study areas']"
      ]
     },
     "execution_count": 369,
     "metadata": {},
     "output_type": "execute_result"
    }
   ],
   "source": [
    "show_topics(H1)"
   ]
  },
  {
   "cell_type": "markdown",
   "id": "5b47a84e",
   "metadata": {},
   "source": [
    "### Calcuate Dominant topic with NMF"
   ]
  },
  {
   "cell_type": "code",
   "execution_count": 370,
   "id": "f50d1560",
   "metadata": {},
   "outputs": [],
   "source": [
    "colnames = [\"Topic\" + str(i) for i in range(clf.n_components)]\n",
    "# docnames = [\"Doc\" + str(i) for i in range(len(documents))]\n",
    "docnames = df['AN']\n",
    "df_doc_topic = pd.DataFrame(np.round(W1, 2), columns=colnames, index=docnames)\n",
    "significant_topic = np.argmax(df_doc_topic.values, axis=1)\n",
    "df_doc_topic['dominant_topic'] = significant_topic"
   ]
  },
  {
   "cell_type": "code",
   "execution_count": 371,
   "id": "40424cc3",
   "metadata": {},
   "outputs": [
    {
     "data": {
      "text/html": [
       "<div>\n",
       "<style scoped>\n",
       "    .dataframe tbody tr th:only-of-type {\n",
       "        vertical-align: middle;\n",
       "    }\n",
       "\n",
       "    .dataframe tbody tr th {\n",
       "        vertical-align: top;\n",
       "    }\n",
       "\n",
       "    .dataframe thead th {\n",
       "        text-align: right;\n",
       "    }\n",
       "</style>\n",
       "<table border=\"1\" class=\"dataframe\">\n",
       "  <thead>\n",
       "    <tr style=\"text-align: right;\">\n",
       "      <th></th>\n",
       "      <th>Topic0</th>\n",
       "      <th>Topic1</th>\n",
       "      <th>Topic2</th>\n",
       "      <th>Topic3</th>\n",
       "      <th>Topic4</th>\n",
       "      <th>Topic5</th>\n",
       "      <th>Topic6</th>\n",
       "      <th>Topic7</th>\n",
       "      <th>Topic8</th>\n",
       "      <th>Topic9</th>\n",
       "      <th>dominant_topic</th>\n",
       "    </tr>\n",
       "    <tr>\n",
       "      <th>AN</th>\n",
       "      <th></th>\n",
       "      <th></th>\n",
       "      <th></th>\n",
       "      <th></th>\n",
       "      <th></th>\n",
       "      <th></th>\n",
       "      <th></th>\n",
       "      <th></th>\n",
       "      <th></th>\n",
       "      <th></th>\n",
       "      <th></th>\n",
       "    </tr>\n",
       "  </thead>\n",
       "  <tbody>\n",
       "    <tr>\n",
       "      <th>1000</th>\n",
       "      <td>0.09</td>\n",
       "      <td>0.00</td>\n",
       "      <td>0.00</td>\n",
       "      <td>0.00</td>\n",
       "      <td>0.00</td>\n",
       "      <td>0.00</td>\n",
       "      <td>0.00</td>\n",
       "      <td>0.00</td>\n",
       "      <td>0.00</td>\n",
       "      <td>2.20</td>\n",
       "      <td>9</td>\n",
       "    </tr>\n",
       "    <tr>\n",
       "      <th>1001</th>\n",
       "      <td>0.16</td>\n",
       "      <td>0.08</td>\n",
       "      <td>0.00</td>\n",
       "      <td>0.30</td>\n",
       "      <td>0.00</td>\n",
       "      <td>0.09</td>\n",
       "      <td>0.22</td>\n",
       "      <td>0.00</td>\n",
       "      <td>0.00</td>\n",
       "      <td>0.11</td>\n",
       "      <td>3</td>\n",
       "    </tr>\n",
       "    <tr>\n",
       "      <th>1002</th>\n",
       "      <td>0.05</td>\n",
       "      <td>0.00</td>\n",
       "      <td>0.00</td>\n",
       "      <td>0.00</td>\n",
       "      <td>0.03</td>\n",
       "      <td>0.36</td>\n",
       "      <td>0.00</td>\n",
       "      <td>0.18</td>\n",
       "      <td>0.00</td>\n",
       "      <td>0.00</td>\n",
       "      <td>5</td>\n",
       "    </tr>\n",
       "    <tr>\n",
       "      <th>1003</th>\n",
       "      <td>0.03</td>\n",
       "      <td>0.00</td>\n",
       "      <td>0.03</td>\n",
       "      <td>0.02</td>\n",
       "      <td>0.03</td>\n",
       "      <td>0.11</td>\n",
       "      <td>0.01</td>\n",
       "      <td>0.14</td>\n",
       "      <td>0.27</td>\n",
       "      <td>0.18</td>\n",
       "      <td>8</td>\n",
       "    </tr>\n",
       "    <tr>\n",
       "      <th>1004</th>\n",
       "      <td>0.05</td>\n",
       "      <td>0.02</td>\n",
       "      <td>0.03</td>\n",
       "      <td>0.00</td>\n",
       "      <td>0.00</td>\n",
       "      <td>0.49</td>\n",
       "      <td>0.00</td>\n",
       "      <td>0.00</td>\n",
       "      <td>0.00</td>\n",
       "      <td>0.00</td>\n",
       "      <td>5</td>\n",
       "    </tr>\n",
       "    <tr>\n",
       "      <th>...</th>\n",
       "      <td>...</td>\n",
       "      <td>...</td>\n",
       "      <td>...</td>\n",
       "      <td>...</td>\n",
       "      <td>...</td>\n",
       "      <td>...</td>\n",
       "      <td>...</td>\n",
       "      <td>...</td>\n",
       "      <td>...</td>\n",
       "      <td>...</td>\n",
       "      <td>...</td>\n",
       "    </tr>\n",
       "    <tr>\n",
       "      <th>2994</th>\n",
       "      <td>0.00</td>\n",
       "      <td>0.00</td>\n",
       "      <td>1.27</td>\n",
       "      <td>0.00</td>\n",
       "      <td>0.00</td>\n",
       "      <td>0.00</td>\n",
       "      <td>0.00</td>\n",
       "      <td>0.02</td>\n",
       "      <td>0.00</td>\n",
       "      <td>0.00</td>\n",
       "      <td>2</td>\n",
       "    </tr>\n",
       "    <tr>\n",
       "      <th>2995</th>\n",
       "      <td>0.03</td>\n",
       "      <td>0.00</td>\n",
       "      <td>0.00</td>\n",
       "      <td>0.56</td>\n",
       "      <td>0.02</td>\n",
       "      <td>0.13</td>\n",
       "      <td>0.12</td>\n",
       "      <td>0.02</td>\n",
       "      <td>0.00</td>\n",
       "      <td>0.00</td>\n",
       "      <td>3</td>\n",
       "    </tr>\n",
       "    <tr>\n",
       "      <th>2996</th>\n",
       "      <td>0.04</td>\n",
       "      <td>0.00</td>\n",
       "      <td>0.04</td>\n",
       "      <td>0.00</td>\n",
       "      <td>0.04</td>\n",
       "      <td>0.42</td>\n",
       "      <td>0.00</td>\n",
       "      <td>0.02</td>\n",
       "      <td>0.00</td>\n",
       "      <td>0.03</td>\n",
       "      <td>5</td>\n",
       "    </tr>\n",
       "    <tr>\n",
       "      <th>2997</th>\n",
       "      <td>0.00</td>\n",
       "      <td>0.00</td>\n",
       "      <td>0.02</td>\n",
       "      <td>0.01</td>\n",
       "      <td>0.01</td>\n",
       "      <td>0.22</td>\n",
       "      <td>0.00</td>\n",
       "      <td>0.13</td>\n",
       "      <td>0.00</td>\n",
       "      <td>0.03</td>\n",
       "      <td>5</td>\n",
       "    </tr>\n",
       "    <tr>\n",
       "      <th>2998</th>\n",
       "      <td>0.00</td>\n",
       "      <td>0.00</td>\n",
       "      <td>0.05</td>\n",
       "      <td>0.00</td>\n",
       "      <td>0.51</td>\n",
       "      <td>0.18</td>\n",
       "      <td>0.00</td>\n",
       "      <td>0.26</td>\n",
       "      <td>0.00</td>\n",
       "      <td>0.00</td>\n",
       "      <td>4</td>\n",
       "    </tr>\n",
       "  </tbody>\n",
       "</table>\n",
       "<p>1999 rows × 11 columns</p>\n",
       "</div>"
      ],
      "text/plain": [
       "      Topic0  Topic1  Topic2  Topic3  Topic4  Topic5  Topic6  Topic7  Topic8  \\\n",
       "AN                                                                             \n",
       "1000    0.09    0.00    0.00    0.00    0.00    0.00    0.00    0.00    0.00   \n",
       "1001    0.16    0.08    0.00    0.30    0.00    0.09    0.22    0.00    0.00   \n",
       "1002    0.05    0.00    0.00    0.00    0.03    0.36    0.00    0.18    0.00   \n",
       "1003    0.03    0.00    0.03    0.02    0.03    0.11    0.01    0.14    0.27   \n",
       "1004    0.05    0.02    0.03    0.00    0.00    0.49    0.00    0.00    0.00   \n",
       "...      ...     ...     ...     ...     ...     ...     ...     ...     ...   \n",
       "2994    0.00    0.00    1.27    0.00    0.00    0.00    0.00    0.02    0.00   \n",
       "2995    0.03    0.00    0.00    0.56    0.02    0.13    0.12    0.02    0.00   \n",
       "2996    0.04    0.00    0.04    0.00    0.04    0.42    0.00    0.02    0.00   \n",
       "2997    0.00    0.00    0.02    0.01    0.01    0.22    0.00    0.13    0.00   \n",
       "2998    0.00    0.00    0.05    0.00    0.51    0.18    0.00    0.26    0.00   \n",
       "\n",
       "      Topic9  dominant_topic  \n",
       "AN                            \n",
       "1000    2.20               9  \n",
       "1001    0.11               3  \n",
       "1002    0.00               5  \n",
       "1003    0.18               8  \n",
       "1004    0.00               5  \n",
       "...      ...             ...  \n",
       "2994    0.00               2  \n",
       "2995    0.00               3  \n",
       "2996    0.03               5  \n",
       "2997    0.03               5  \n",
       "2998    0.00               4  \n",
       "\n",
       "[1999 rows x 11 columns]"
      ]
     },
     "execution_count": 371,
     "metadata": {},
     "output_type": "execute_result"
    }
   ],
   "source": [
    "df_doc_topic"
   ]
  },
  {
   "cell_type": "code",
   "execution_count": 372,
   "id": "955adaa4",
   "metadata": {},
   "outputs": [],
   "source": [
    "df['Topic'] = significant_topic"
   ]
  },
  {
   "cell_type": "code",
   "execution_count": 373,
   "id": "ba535244",
   "metadata": {},
   "outputs": [
    {
     "data": {
      "text/html": [
       "<div>\n",
       "<style scoped>\n",
       "    .dataframe tbody tr th:only-of-type {\n",
       "        vertical-align: middle;\n",
       "    }\n",
       "\n",
       "    .dataframe tbody tr th {\n",
       "        vertical-align: top;\n",
       "    }\n",
       "\n",
       "    .dataframe thead th {\n",
       "        text-align: right;\n",
       "    }\n",
       "</style>\n",
       "<table border=\"1\" class=\"dataframe\">\n",
       "  <thead>\n",
       "    <tr style=\"text-align: right;\">\n",
       "      <th></th>\n",
       "      <th>AN</th>\n",
       "      <th>TAB</th>\n",
       "      <th>Seed</th>\n",
       "      <th>Topic</th>\n",
       "    </tr>\n",
       "  </thead>\n",
       "  <tbody>\n",
       "    <tr>\n",
       "      <th>0</th>\n",
       "      <td>1000</td>\n",
       "      <td>Urban Growth Dynamics and Changing Land-Use La...</td>\n",
       "      <td></td>\n",
       "      <td>9</td>\n",
       "    </tr>\n",
       "    <tr>\n",
       "      <th>1</th>\n",
       "      <td>1001</td>\n",
       "      <td>Reduction in exposure to arsenic from drinking...</td>\n",
       "      <td>1</td>\n",
       "      <td>3</td>\n",
       "    </tr>\n",
       "    <tr>\n",
       "      <th>2</th>\n",
       "      <td>1002</td>\n",
       "      <td>Optimization of phenol adsorption onto biochar...</td>\n",
       "      <td></td>\n",
       "      <td>5</td>\n",
       "    </tr>\n",
       "    <tr>\n",
       "      <th>3</th>\n",
       "      <td>1003</td>\n",
       "      <td>Long-term trends in hydrochemistry in the Para...</td>\n",
       "      <td></td>\n",
       "      <td>8</td>\n",
       "    </tr>\n",
       "    <tr>\n",
       "      <th>4</th>\n",
       "      <td>1004</td>\n",
       "      <td>Application research of crosshole electromagne...</td>\n",
       "      <td></td>\n",
       "      <td>5</td>\n",
       "    </tr>\n",
       "    <tr>\n",
       "      <th>...</th>\n",
       "      <td>...</td>\n",
       "      <td>...</td>\n",
       "      <td>...</td>\n",
       "      <td>...</td>\n",
       "    </tr>\n",
       "    <tr>\n",
       "      <th>1994</th>\n",
       "      <td>2994</td>\n",
       "      <td>Geology, fluid inclusions, and H-O-S-Pb isotop...</td>\n",
       "      <td></td>\n",
       "      <td>2</td>\n",
       "    </tr>\n",
       "    <tr>\n",
       "      <th>1995</th>\n",
       "      <td>2995</td>\n",
       "      <td>Sex-Specific Associations between One-Carbon M...</td>\n",
       "      <td></td>\n",
       "      <td>3</td>\n",
       "    </tr>\n",
       "    <tr>\n",
       "      <th>1996</th>\n",
       "      <td>2996</td>\n",
       "      <td>A Quantitative Process-Based Inventory Study o...</td>\n",
       "      <td></td>\n",
       "      <td>5</td>\n",
       "    </tr>\n",
       "    <tr>\n",
       "      <th>1997</th>\n",
       "      <td>2997</td>\n",
       "      <td>Treatment of Low Biodegradability Leachates in...</td>\n",
       "      <td></td>\n",
       "      <td>5</td>\n",
       "    </tr>\n",
       "    <tr>\n",
       "      <th>1998</th>\n",
       "      <td>2998</td>\n",
       "      <td>The regulatory role of endogenous iron on gree...</td>\n",
       "      <td></td>\n",
       "      <td>4</td>\n",
       "    </tr>\n",
       "  </tbody>\n",
       "</table>\n",
       "<p>1999 rows × 4 columns</p>\n",
       "</div>"
      ],
      "text/plain": [
       "        AN                                                TAB Seed  Topic\n",
       "0     1000  Urban Growth Dynamics and Changing Land-Use La...           9\n",
       "1     1001  Reduction in exposure to arsenic from drinking...    1      3\n",
       "2     1002  Optimization of phenol adsorption onto biochar...           5\n",
       "3     1003  Long-term trends in hydrochemistry in the Para...           8\n",
       "4     1004  Application research of crosshole electromagne...           5\n",
       "...    ...                                                ...  ...    ...\n",
       "1994  2994  Geology, fluid inclusions, and H-O-S-Pb isotop...           2\n",
       "1995  2995  Sex-Specific Associations between One-Carbon M...           3\n",
       "1996  2996  A Quantitative Process-Based Inventory Study o...           5\n",
       "1997  2997  Treatment of Low Biodegradability Leachates in...           5\n",
       "1998  2998  The regulatory role of endogenous iron on gree...           4\n",
       "\n",
       "[1999 rows x 4 columns]"
      ]
     },
     "execution_count": 373,
     "metadata": {},
     "output_type": "execute_result"
    }
   ],
   "source": [
    "df"
   ]
  },
  {
   "cell_type": "markdown",
   "id": "1fe5ba7f",
   "metadata": {},
   "source": [
    "### Looking for top terms"
   ]
  },
  {
   "cell_type": "code",
   "execution_count": 374,
   "id": "553afa83",
   "metadata": {},
   "outputs": [],
   "source": [
    "# order_centroids = model.cluster_centers_.argsort()[:, ::-1]\n",
    "order_centroids = H1.argsort()[:, ::-1]\n",
    "# terms = vectorizer.get_feature_names_out()\n",
    "terms = np.array(vectorizer.get_feature_names_out())"
   ]
  },
  {
   "cell_type": "code",
   "execution_count": 375,
   "id": "15ec8db8",
   "metadata": {},
   "outputs": [],
   "source": [
    "df2 = pd.DataFrame()\n",
    "for i in range(d):\n",
    "    subset_df = df[df.Topic == i].shape[0]\n",
    "\n",
    "    top_ten_words = [terms[ind] for ind in order_centroids[i, :10]]\n",
    "    data = {'TopicIndex': i, \n",
    "            'NumObs': subset_df,\n",
    "           'TopicKeyWords': top_ten_words}\n",
    "\n",
    "\n",
    "    df2 = df2.append(data, ignore_index=True)"
   ]
  },
  {
   "cell_type": "code",
   "execution_count": 376,
   "id": "83e999b6",
   "metadata": {},
   "outputs": [
    {
     "data": {
      "text/html": [
       "<div>\n",
       "<style scoped>\n",
       "    .dataframe tbody tr th:only-of-type {\n",
       "        vertical-align: middle;\n",
       "    }\n",
       "\n",
       "    .dataframe tbody tr th {\n",
       "        vertical-align: top;\n",
       "    }\n",
       "\n",
       "    .dataframe thead th {\n",
       "        text-align: right;\n",
       "    }\n",
       "</style>\n",
       "<table border=\"1\" class=\"dataframe\">\n",
       "  <thead>\n",
       "    <tr style=\"text-align: right;\">\n",
       "      <th></th>\n",
       "      <th>TopicIndex</th>\n",
       "      <th>NumObs</th>\n",
       "      <th>TopicKeyWords</th>\n",
       "    </tr>\n",
       "  </thead>\n",
       "  <tbody>\n",
       "    <tr>\n",
       "      <th>0</th>\n",
       "      <td>0.0</td>\n",
       "      <td>361.0</td>\n",
       "      <td>[water, drinking, supply, quality, irrigation,...</td>\n",
       "    </tr>\n",
       "    <tr>\n",
       "      <th>1</th>\n",
       "      <td>1.0</td>\n",
       "      <td>158.0</td>\n",
       "      <td>[groundwater, area, quality, study, samples, a...</td>\n",
       "    </tr>\n",
       "    <tr>\n",
       "      <th>2</th>\n",
       "      <td>2.0</td>\n",
       "      <td>104.0</td>\n",
       "      <td>[fluid, deposits, gold, hydrothermal, minerali...</td>\n",
       "    </tr>\n",
       "    <tr>\n",
       "      <th>3</th>\n",
       "      <td>3.0</td>\n",
       "      <td>138.0</td>\n",
       "      <td>[arsenic, exposure, drinking, skin, concentrat...</td>\n",
       "    </tr>\n",
       "    <tr>\n",
       "      <th>4</th>\n",
       "      <td>4.0</td>\n",
       "      <td>100.0</td>\n",
       "      <td>[soil, soils, organic, nutrient, crop, increas...</td>\n",
       "    </tr>\n",
       "    <tr>\n",
       "      <th>5</th>\n",
       "      <td>5.0</td>\n",
       "      <td>485.0</td>\n",
       "      <td>[study, model, using, used, data, results, ene...</td>\n",
       "    </tr>\n",
       "    <tr>\n",
       "      <th>6</th>\n",
       "      <td>6.0</td>\n",
       "      <td>156.0</td>\n",
       "      <td>[health, risk, children, drinking, study, huma...</td>\n",
       "    </tr>\n",
       "    <tr>\n",
       "      <th>7</th>\n",
       "      <td>7.0</td>\n",
       "      <td>314.0</td>\n",
       "      <td>[mg, samples, heavy, concentration, metals, co...</td>\n",
       "    </tr>\n",
       "    <tr>\n",
       "      <th>8</th>\n",
       "      <td>8.0</td>\n",
       "      <td>109.0</td>\n",
       "      <td>[river, quality, pollution, basin, water, chin...</td>\n",
       "    </tr>\n",
       "    <tr>\n",
       "      <th>9</th>\n",
       "      <td>9.0</td>\n",
       "      <td>74.0</td>\n",
       "      <td>[land, use, area, urban, change, cover, forest...</td>\n",
       "    </tr>\n",
       "  </tbody>\n",
       "</table>\n",
       "</div>"
      ],
      "text/plain": [
       "   TopicIndex  NumObs                                      TopicKeyWords\n",
       "0         0.0   361.0  [water, drinking, supply, quality, irrigation,...\n",
       "1         1.0   158.0  [groundwater, area, quality, study, samples, a...\n",
       "2         2.0   104.0  [fluid, deposits, gold, hydrothermal, minerali...\n",
       "3         3.0   138.0  [arsenic, exposure, drinking, skin, concentrat...\n",
       "4         4.0   100.0  [soil, soils, organic, nutrient, crop, increas...\n",
       "5         5.0   485.0  [study, model, using, used, data, results, ene...\n",
       "6         6.0   156.0  [health, risk, children, drinking, study, huma...\n",
       "7         7.0   314.0  [mg, samples, heavy, concentration, metals, co...\n",
       "8         8.0   109.0  [river, quality, pollution, basin, water, chin...\n",
       "9         9.0    74.0  [land, use, area, urban, change, cover, forest..."
      ]
     },
     "execution_count": 376,
     "metadata": {},
     "output_type": "execute_result"
    }
   ],
   "source": [
    "df2"
   ]
  },
  {
   "cell_type": "markdown",
   "id": "a7915f3b",
   "metadata": {},
   "source": [
    "### Concat df and df2 to final result"
   ]
  },
  {
   "cell_type": "code",
   "execution_count": 377,
   "id": "17e9b39b",
   "metadata": {},
   "outputs": [],
   "source": [
    "result = pd.concat([df, df2], axis=1)"
   ]
  },
  {
   "cell_type": "code",
   "execution_count": 378,
   "id": "b09c843b",
   "metadata": {},
   "outputs": [
    {
     "data": {
      "text/html": [
       "<div>\n",
       "<style scoped>\n",
       "    .dataframe tbody tr th:only-of-type {\n",
       "        vertical-align: middle;\n",
       "    }\n",
       "\n",
       "    .dataframe tbody tr th {\n",
       "        vertical-align: top;\n",
       "    }\n",
       "\n",
       "    .dataframe thead th {\n",
       "        text-align: right;\n",
       "    }\n",
       "</style>\n",
       "<table border=\"1\" class=\"dataframe\">\n",
       "  <thead>\n",
       "    <tr style=\"text-align: right;\">\n",
       "      <th></th>\n",
       "      <th>AN</th>\n",
       "      <th>TAB</th>\n",
       "      <th>Seed</th>\n",
       "      <th>Topic</th>\n",
       "      <th>TopicIndex</th>\n",
       "      <th>NumObs</th>\n",
       "      <th>TopicKeyWords</th>\n",
       "    </tr>\n",
       "  </thead>\n",
       "  <tbody>\n",
       "    <tr>\n",
       "      <th>0</th>\n",
       "      <td>1000</td>\n",
       "      <td>Urban Growth Dynamics and Changing Land-Use La...</td>\n",
       "      <td></td>\n",
       "      <td>9</td>\n",
       "      <td>0.0</td>\n",
       "      <td>361.0</td>\n",
       "      <td>[water, drinking, supply, quality, irrigation,...</td>\n",
       "    </tr>\n",
       "    <tr>\n",
       "      <th>1</th>\n",
       "      <td>1001</td>\n",
       "      <td>Reduction in exposure to arsenic from drinking...</td>\n",
       "      <td>1</td>\n",
       "      <td>3</td>\n",
       "      <td>1.0</td>\n",
       "      <td>158.0</td>\n",
       "      <td>[groundwater, area, quality, study, samples, a...</td>\n",
       "    </tr>\n",
       "    <tr>\n",
       "      <th>2</th>\n",
       "      <td>1002</td>\n",
       "      <td>Optimization of phenol adsorption onto biochar...</td>\n",
       "      <td></td>\n",
       "      <td>5</td>\n",
       "      <td>2.0</td>\n",
       "      <td>104.0</td>\n",
       "      <td>[fluid, deposits, gold, hydrothermal, minerali...</td>\n",
       "    </tr>\n",
       "    <tr>\n",
       "      <th>3</th>\n",
       "      <td>1003</td>\n",
       "      <td>Long-term trends in hydrochemistry in the Para...</td>\n",
       "      <td></td>\n",
       "      <td>8</td>\n",
       "      <td>3.0</td>\n",
       "      <td>138.0</td>\n",
       "      <td>[arsenic, exposure, drinking, skin, concentrat...</td>\n",
       "    </tr>\n",
       "    <tr>\n",
       "      <th>4</th>\n",
       "      <td>1004</td>\n",
       "      <td>Application research of crosshole electromagne...</td>\n",
       "      <td></td>\n",
       "      <td>5</td>\n",
       "      <td>4.0</td>\n",
       "      <td>100.0</td>\n",
       "      <td>[soil, soils, organic, nutrient, crop, increas...</td>\n",
       "    </tr>\n",
       "    <tr>\n",
       "      <th>...</th>\n",
       "      <td>...</td>\n",
       "      <td>...</td>\n",
       "      <td>...</td>\n",
       "      <td>...</td>\n",
       "      <td>...</td>\n",
       "      <td>...</td>\n",
       "      <td>...</td>\n",
       "    </tr>\n",
       "    <tr>\n",
       "      <th>1994</th>\n",
       "      <td>2994</td>\n",
       "      <td>Geology, fluid inclusions, and H-O-S-Pb isotop...</td>\n",
       "      <td></td>\n",
       "      <td>2</td>\n",
       "      <td>NaN</td>\n",
       "      <td>NaN</td>\n",
       "      <td>NaN</td>\n",
       "    </tr>\n",
       "    <tr>\n",
       "      <th>1995</th>\n",
       "      <td>2995</td>\n",
       "      <td>Sex-Specific Associations between One-Carbon M...</td>\n",
       "      <td></td>\n",
       "      <td>3</td>\n",
       "      <td>NaN</td>\n",
       "      <td>NaN</td>\n",
       "      <td>NaN</td>\n",
       "    </tr>\n",
       "    <tr>\n",
       "      <th>1996</th>\n",
       "      <td>2996</td>\n",
       "      <td>A Quantitative Process-Based Inventory Study o...</td>\n",
       "      <td></td>\n",
       "      <td>5</td>\n",
       "      <td>NaN</td>\n",
       "      <td>NaN</td>\n",
       "      <td>NaN</td>\n",
       "    </tr>\n",
       "    <tr>\n",
       "      <th>1997</th>\n",
       "      <td>2997</td>\n",
       "      <td>Treatment of Low Biodegradability Leachates in...</td>\n",
       "      <td></td>\n",
       "      <td>5</td>\n",
       "      <td>NaN</td>\n",
       "      <td>NaN</td>\n",
       "      <td>NaN</td>\n",
       "    </tr>\n",
       "    <tr>\n",
       "      <th>1998</th>\n",
       "      <td>2998</td>\n",
       "      <td>The regulatory role of endogenous iron on gree...</td>\n",
       "      <td></td>\n",
       "      <td>4</td>\n",
       "      <td>NaN</td>\n",
       "      <td>NaN</td>\n",
       "      <td>NaN</td>\n",
       "    </tr>\n",
       "  </tbody>\n",
       "</table>\n",
       "<p>1999 rows × 7 columns</p>\n",
       "</div>"
      ],
      "text/plain": [
       "        AN                                                TAB Seed  Topic  \\\n",
       "0     1000  Urban Growth Dynamics and Changing Land-Use La...           9   \n",
       "1     1001  Reduction in exposure to arsenic from drinking...    1      3   \n",
       "2     1002  Optimization of phenol adsorption onto biochar...           5   \n",
       "3     1003  Long-term trends in hydrochemistry in the Para...           8   \n",
       "4     1004  Application research of crosshole electromagne...           5   \n",
       "...    ...                                                ...  ...    ...   \n",
       "1994  2994  Geology, fluid inclusions, and H-O-S-Pb isotop...           2   \n",
       "1995  2995  Sex-Specific Associations between One-Carbon M...           3   \n",
       "1996  2996  A Quantitative Process-Based Inventory Study o...           5   \n",
       "1997  2997  Treatment of Low Biodegradability Leachates in...           5   \n",
       "1998  2998  The regulatory role of endogenous iron on gree...           4   \n",
       "\n",
       "      TopicIndex  NumObs                                      TopicKeyWords  \n",
       "0            0.0   361.0  [water, drinking, supply, quality, irrigation,...  \n",
       "1            1.0   158.0  [groundwater, area, quality, study, samples, a...  \n",
       "2            2.0   104.0  [fluid, deposits, gold, hydrothermal, minerali...  \n",
       "3            3.0   138.0  [arsenic, exposure, drinking, skin, concentrat...  \n",
       "4            4.0   100.0  [soil, soils, organic, nutrient, crop, increas...  \n",
       "...          ...     ...                                                ...  \n",
       "1994         NaN     NaN                                                NaN  \n",
       "1995         NaN     NaN                                                NaN  \n",
       "1996         NaN     NaN                                                NaN  \n",
       "1997         NaN     NaN                                                NaN  \n",
       "1998         NaN     NaN                                                NaN  \n",
       "\n",
       "[1999 rows x 7 columns]"
      ]
     },
     "execution_count": 378,
     "metadata": {},
     "output_type": "execute_result"
    }
   ],
   "source": [
    "result"
   ]
  },
  {
   "cell_type": "code",
   "execution_count": 379,
   "id": "6d77fd0d",
   "metadata": {},
   "outputs": [
    {
     "data": {
      "text/html": [
       "<div>\n",
       "<style scoped>\n",
       "    .dataframe tbody tr th:only-of-type {\n",
       "        vertical-align: middle;\n",
       "    }\n",
       "\n",
       "    .dataframe tbody tr th {\n",
       "        vertical-align: top;\n",
       "    }\n",
       "\n",
       "    .dataframe thead th {\n",
       "        text-align: right;\n",
       "    }\n",
       "</style>\n",
       "<table border=\"1\" class=\"dataframe\">\n",
       "  <thead>\n",
       "    <tr style=\"text-align: right;\">\n",
       "      <th></th>\n",
       "      <th>AN</th>\n",
       "      <th>TAB</th>\n",
       "      <th>Seed</th>\n",
       "      <th>Topic</th>\n",
       "      <th>TopicIndex</th>\n",
       "      <th>NumObs</th>\n",
       "      <th>TopicKeyWords</th>\n",
       "    </tr>\n",
       "  </thead>\n",
       "  <tbody>\n",
       "    <tr>\n",
       "      <th>0</th>\n",
       "      <td>1000</td>\n",
       "      <td>Urban Growth Dynamics and Changing Land-Use La...</td>\n",
       "      <td></td>\n",
       "      <td>9</td>\n",
       "      <td>0.0</td>\n",
       "      <td>361.0</td>\n",
       "      <td>[water, drinking, supply, quality, irrigation,...</td>\n",
       "    </tr>\n",
       "    <tr>\n",
       "      <th>1</th>\n",
       "      <td>1001</td>\n",
       "      <td>Reduction in exposure to arsenic from drinking...</td>\n",
       "      <td>1</td>\n",
       "      <td>3</td>\n",
       "      <td>1.0</td>\n",
       "      <td>158.0</td>\n",
       "      <td>[groundwater, area, quality, study, samples, a...</td>\n",
       "    </tr>\n",
       "    <tr>\n",
       "      <th>2</th>\n",
       "      <td>1002</td>\n",
       "      <td>Optimization of phenol adsorption onto biochar...</td>\n",
       "      <td></td>\n",
       "      <td>5</td>\n",
       "      <td>2.0</td>\n",
       "      <td>104.0</td>\n",
       "      <td>[fluid, deposits, gold, hydrothermal, minerali...</td>\n",
       "    </tr>\n",
       "    <tr>\n",
       "      <th>3</th>\n",
       "      <td>1003</td>\n",
       "      <td>Long-term trends in hydrochemistry in the Para...</td>\n",
       "      <td></td>\n",
       "      <td>8</td>\n",
       "      <td>3.0</td>\n",
       "      <td>138.0</td>\n",
       "      <td>[arsenic, exposure, drinking, skin, concentrat...</td>\n",
       "    </tr>\n",
       "    <tr>\n",
       "      <th>4</th>\n",
       "      <td>1004</td>\n",
       "      <td>Application research of crosshole electromagne...</td>\n",
       "      <td></td>\n",
       "      <td>5</td>\n",
       "      <td>4.0</td>\n",
       "      <td>100.0</td>\n",
       "      <td>[soil, soils, organic, nutrient, crop, increas...</td>\n",
       "    </tr>\n",
       "    <tr>\n",
       "      <th>5</th>\n",
       "      <td>1005</td>\n",
       "      <td>An environmentally-friendly integrated seismic...</td>\n",
       "      <td></td>\n",
       "      <td>5</td>\n",
       "      <td>5.0</td>\n",
       "      <td>485.0</td>\n",
       "      <td>[study, model, using, used, data, results, ene...</td>\n",
       "    </tr>\n",
       "    <tr>\n",
       "      <th>6</th>\n",
       "      <td>1006</td>\n",
       "      <td>Risk of arsenic-related skin lesions in Bangla...</td>\n",
       "      <td>1</td>\n",
       "      <td>3</td>\n",
       "      <td>6.0</td>\n",
       "      <td>156.0</td>\n",
       "      <td>[health, risk, children, drinking, study, huma...</td>\n",
       "    </tr>\n",
       "    <tr>\n",
       "      <th>7</th>\n",
       "      <td>1007</td>\n",
       "      <td>Proposal of an irrigation water quality index ...</td>\n",
       "      <td></td>\n",
       "      <td>0</td>\n",
       "      <td>7.0</td>\n",
       "      <td>314.0</td>\n",
       "      <td>[mg, samples, heavy, concentration, metals, co...</td>\n",
       "    </tr>\n",
       "    <tr>\n",
       "      <th>8</th>\n",
       "      <td>1008</td>\n",
       "      <td>Spatial variation and quantitative screening l...</td>\n",
       "      <td></td>\n",
       "      <td>6</td>\n",
       "      <td>8.0</td>\n",
       "      <td>109.0</td>\n",
       "      <td>[river, quality, pollution, basin, water, chin...</td>\n",
       "    </tr>\n",
       "    <tr>\n",
       "      <th>9</th>\n",
       "      <td>1009</td>\n",
       "      <td>Removal of hazardous dyes, toxic metal ions an...</td>\n",
       "      <td></td>\n",
       "      <td>0</td>\n",
       "      <td>9.0</td>\n",
       "      <td>74.0</td>\n",
       "      <td>[land, use, area, urban, change, cover, forest...</td>\n",
       "    </tr>\n",
       "  </tbody>\n",
       "</table>\n",
       "</div>"
      ],
      "text/plain": [
       "     AN                                                TAB Seed  Topic  \\\n",
       "0  1000  Urban Growth Dynamics and Changing Land-Use La...           9   \n",
       "1  1001  Reduction in exposure to arsenic from drinking...    1      3   \n",
       "2  1002  Optimization of phenol adsorption onto biochar...           5   \n",
       "3  1003  Long-term trends in hydrochemistry in the Para...           8   \n",
       "4  1004  Application research of crosshole electromagne...           5   \n",
       "5  1005  An environmentally-friendly integrated seismic...           5   \n",
       "6  1006  Risk of arsenic-related skin lesions in Bangla...    1      3   \n",
       "7  1007  Proposal of an irrigation water quality index ...           0   \n",
       "8  1008  Spatial variation and quantitative screening l...           6   \n",
       "9  1009  Removal of hazardous dyes, toxic metal ions an...           0   \n",
       "\n",
       "   TopicIndex  NumObs                                      TopicKeyWords  \n",
       "0         0.0   361.0  [water, drinking, supply, quality, irrigation,...  \n",
       "1         1.0   158.0  [groundwater, area, quality, study, samples, a...  \n",
       "2         2.0   104.0  [fluid, deposits, gold, hydrothermal, minerali...  \n",
       "3         3.0   138.0  [arsenic, exposure, drinking, skin, concentrat...  \n",
       "4         4.0   100.0  [soil, soils, organic, nutrient, crop, increas...  \n",
       "5         5.0   485.0  [study, model, using, used, data, results, ene...  \n",
       "6         6.0   156.0  [health, risk, children, drinking, study, huma...  \n",
       "7         7.0   314.0  [mg, samples, heavy, concentration, metals, co...  \n",
       "8         8.0   109.0  [river, quality, pollution, basin, water, chin...  \n",
       "9         9.0    74.0  [land, use, area, urban, change, cover, forest...  "
      ]
     },
     "execution_count": 379,
     "metadata": {},
     "output_type": "execute_result"
    }
   ],
   "source": [
    "result.head(10)"
   ]
  }
 ],
 "metadata": {
  "kernelspec": {
   "display_name": "Python 3 (ipykernel)",
   "language": "python",
   "name": "python3"
  },
  "language_info": {
   "codemirror_mode": {
    "name": "ipython",
    "version": 3
   },
   "file_extension": ".py",
   "mimetype": "text/x-python",
   "name": "python",
   "nbconvert_exporter": "python",
   "pygments_lexer": "ipython3",
   "version": "3.9.7"
  }
 },
 "nbformat": 4,
 "nbformat_minor": 5
}
