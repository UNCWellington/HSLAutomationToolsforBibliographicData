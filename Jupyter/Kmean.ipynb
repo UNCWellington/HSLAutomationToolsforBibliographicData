{
 "cells": [
  {
   "cell_type": "markdown",
   "id": "3883682e",
   "metadata": {},
   "source": [
    "## K-mean Model practice\n",
    "Solution: use K-mean model to output\n",
    "Source: seed_sample_2000_input.csv"
   ]
  },
  {
   "cell_type": "code",
   "execution_count": 1,
   "id": "2d36a6a6",
   "metadata": {},
   "outputs": [],
   "source": [
    "from flask import Flask, request, redirect, render_template, Response, send_file, send_from_directory\n",
    "from flask_wtf import FlaskForm\n",
    "from wtforms import SelectMultipleField\n",
    "from flask_bootstrap import Bootstrap\n",
    "from os.path import join, dirname, realpath\n",
    "import pandas as pd\n",
    "# from sklearn.feature_extraction.text import TfidfVectorizer\n",
    "from sklearn.feature_extraction.text import TfidfVectorizer, CountVectorizer  # add CountVectorizer for NMF\n",
    "from sklearn.cluster import KMeans\n",
    "from datetime import datetime\n",
    "import io, os\n",
    "import numpy as np"
   ]
  },
  {
   "cell_type": "markdown",
   "id": "b1af1226",
   "metadata": {},
   "source": [
    "Import library for stopwords"
   ]
  },
  {
   "cell_type": "code",
   "execution_count": 2,
   "id": "9d79143c",
   "metadata": {},
   "outputs": [],
   "source": [
    "from sklearn import decomposition\n",
    "import matplotlib.pyplot as plt\n",
    "import re\n",
    "import nltk\n",
    "from nltk.stem.porter import PorterStemmer\n",
    "from sklearn.model_selection import train_test_split"
   ]
  },
  {
   "cell_type": "code",
   "execution_count": 3,
   "id": "97399f98",
   "metadata": {},
   "outputs": [
    {
     "name": "stderr",
     "output_type": "stream",
     "text": [
      "[nltk_data] Downloading package punkt to\n",
      "[nltk_data]     /Users/shouqiangye/nltk_data...\n",
      "[nltk_data]   Package punkt is already up-to-date!\n"
     ]
    },
    {
     "data": {
      "text/plain": [
       "True"
      ]
     },
     "execution_count": 3,
     "metadata": {},
     "output_type": "execute_result"
    }
   ],
   "source": [
    "nltk.download('punkt')"
   ]
  },
  {
   "cell_type": "markdown",
   "id": "eff90469",
   "metadata": {},
   "source": [
    "Set DF from csv file\n",
    "# Source 1: <a href=\"https://github.com/UNCWellington/AI-tools/blob/main/seed_sample_2000_input.csv?raw=true\">seed_sample_2000_input.csv</a>  only 2000 rows  \n",
    "\n",
    "# Source 2: <a href=\"https://github.com/UNCWellington/AI-tools/blob/main/Sample-for-SC.csv?raw=true\">Sample-for-SC.csv   </a> nearly 10,000 rows\n",
    "Note: we shoud add ?raw=true at the end of github link address"
   ]
  },
  {
   "cell_type": "code",
   "execution_count": 4,
   "id": "c6e20c14",
   "metadata": {},
   "outputs": [],
   "source": [
    "# url = 'https://github.com/UNCWellington/AI-tools/blob/main/seed_sample_2000_input.csv?raw=true'\n",
    "url = 'https://github.com/UNCWellington/AI-tools/blob/main/Sample-for-SC.csv?raw=true'\n",
    "# df = pd.read_csv(url,index_col=0)\n",
    "df = pd.read_csv(url, keep_default_na=False)"
   ]
  },
  {
   "cell_type": "code",
   "execution_count": 5,
   "id": "9ea56dd4",
   "metadata": {
    "scrolled": true
   },
   "outputs": [
    {
     "data": {
      "text/html": [
       "<div>\n",
       "<style scoped>\n",
       "    .dataframe tbody tr th:only-of-type {\n",
       "        vertical-align: middle;\n",
       "    }\n",
       "\n",
       "    .dataframe tbody tr th {\n",
       "        vertical-align: top;\n",
       "    }\n",
       "\n",
       "    .dataframe thead th {\n",
       "        text-align: right;\n",
       "    }\n",
       "</style>\n",
       "<table border=\"1\" class=\"dataframe\">\n",
       "  <thead>\n",
       "    <tr style=\"text-align: right;\">\n",
       "      <th></th>\n",
       "      <th>AN</th>\n",
       "      <th>Seed</th>\n",
       "      <th>TAB</th>\n",
       "    </tr>\n",
       "  </thead>\n",
       "  <tbody>\n",
       "    <tr>\n",
       "      <th>0</th>\n",
       "      <td>1783</td>\n",
       "      <td></td>\n",
       "      <td>\"Anywhere but here\": Querying spatial stigma a...</td>\n",
       "    </tr>\n",
       "    <tr>\n",
       "      <th>1</th>\n",
       "      <td>4672</td>\n",
       "      <td></td>\n",
       "      <td>\"Are We Safe Analysts?\" Cisgender Countertrans...</td>\n",
       "    </tr>\n",
       "    <tr>\n",
       "      <th>2</th>\n",
       "      <td>4444</td>\n",
       "      <td></td>\n",
       "      <td>\"As a Trans Person You Don't Live. You Merely ...</td>\n",
       "    </tr>\n",
       "    <tr>\n",
       "      <th>3</th>\n",
       "      <td>22</td>\n",
       "      <td></td>\n",
       "      <td>\"At Your Service\": Sexual Harassment of Female...</td>\n",
       "    </tr>\n",
       "    <tr>\n",
       "      <th>4</th>\n",
       "      <td>2808</td>\n",
       "      <td></td>\n",
       "      <td>\"Bareback\" pornography consumption and safe-se...</td>\n",
       "    </tr>\n",
       "  </tbody>\n",
       "</table>\n",
       "</div>"
      ],
      "text/plain": [
       "     AN Seed                                                TAB\n",
       "0  1783       \"Anywhere but here\": Querying spatial stigma a...\n",
       "1  4672       \"Are We Safe Analysts?\" Cisgender Countertrans...\n",
       "2  4444       \"As a Trans Person You Don't Live. You Merely ...\n",
       "3    22       \"At Your Service\": Sexual Harassment of Female...\n",
       "4  2808       \"Bareback\" pornography consumption and safe-se..."
      ]
     },
     "execution_count": 5,
     "metadata": {},
     "output_type": "execute_result"
    }
   ],
   "source": [
    "df.head()"
   ]
  },
  {
   "cell_type": "markdown",
   "id": "587ef865",
   "metadata": {},
   "source": [
    "set stop words"
   ]
  },
  {
   "cell_type": "code",
   "execution_count": 6,
   "id": "dabbac4a",
   "metadata": {
    "scrolled": true
   },
   "outputs": [
    {
     "name": "stderr",
     "output_type": "stream",
     "text": [
      "[nltk_data] Downloading package stopwords to\n",
      "[nltk_data]     /Users/shouqiangye/nltk_data...\n",
      "[nltk_data]   Package stopwords is already up-to-date!\n"
     ]
    }
   ],
   "source": [
    "stemmer = nltk.stem.SnowballStemmer('english')\n",
    "nltk.download('stopwords')\n",
    "stopwords = set(nltk.corpus.stopwords.words('english'))"
   ]
  },
  {
   "cell_type": "markdown",
   "id": "747ad4e8",
   "metadata": {},
   "source": [
    "set analyse column"
   ]
  },
  {
   "cell_type": "code",
   "execution_count": 7,
   "id": "140a3589",
   "metadata": {},
   "outputs": [],
   "source": [
    "documents = df['TAB'].values.astype(\"U\")"
   ]
  },
  {
   "cell_type": "code",
   "execution_count": 8,
   "id": "b363cef9",
   "metadata": {},
   "outputs": [],
   "source": [
    "#documents"
   ]
  },
  {
   "cell_type": "code",
   "execution_count": 9,
   "id": "532a5fe1",
   "metadata": {},
   "outputs": [],
   "source": [
    "vectorizer = TfidfVectorizer(stop_words=stopwords, ngram_range=(1, 3))\n",
    "features = vectorizer.fit_transform(documents)"
   ]
  },
  {
   "cell_type": "markdown",
   "id": "dd7aa711",
   "metadata": {},
   "source": [
    "set k-10, length =1, then fit model"
   ]
  },
  {
   "cell_type": "code",
   "execution_count": 10,
   "id": "d5a094ec",
   "metadata": {},
   "outputs": [],
   "source": [
    "k = 10\n",
    "length = 1\n"
   ]
  },
  {
   "cell_type": "markdown",
   "id": "e1a37af0",
   "metadata": {},
   "source": [
    "# why every time has different outcome even with the same parameters?"
   ]
  },
  {
   "cell_type": "markdown",
   "id": "3bfa9a1a",
   "metadata": {},
   "source": [
    "https://stackoverflow.com/questions/25921762/changes-of-clustering-results-after-each-time-run-in-python-scikit-learn\n",
    "\n",
    "Explanation:\n",
    "    When using k-means, you want to set the random_state parameter in KMeans (see the documentation). Set this to either an int or a RandomState instance.\n",
    "\n",
    "# km = KMeans(n_clusters=number_of_k, init='k-means++', max_iter=100, n_init=1, verbose=0, random_state=3425)\n",
    "\n",
    "This is important because k-means is not a deterministic algorithm. \n",
    "It usually starts with some randomized initialization procedure, \n",
    "and this randomness means that different runs will start at different points. \n",
    "Seeding the pseudo-random number generator ensures that this randomness will always be the same for identical seeds."
   ]
  },
  {
   "cell_type": "code",
   "execution_count": 11,
   "id": "6bccc119",
   "metadata": {},
   "outputs": [
    {
     "data": {
      "text/plain": [
       "KMeans(max_iter=1, n_clusters=10, n_init=1, random_state=3425)"
      ]
     },
     "execution_count": 11,
     "metadata": {},
     "output_type": "execute_result"
    }
   ],
   "source": [
    "# model = KMeans(n_clusters=k, init='k-means++', max_iter=int(length), n_init=1)\n",
    "model = KMeans(n_clusters=k, init='k-means++', max_iter=int(length), n_init=1, verbose=0, random_state=3425)\n",
    "# recommended by Adam to fix the bug that different outcome every time\n",
    "# model = KMeans(n_clusters=k, init='k-means++', n_init=10, max_iter=300, tol=0.0001, verbose=0, random_state=42, copy_x=True, algorithm='auto')\n",
    "# model = KMeans(n_clusters=k, init='k-means++', n_init=1, max_iter=300, tol=0.0001, verbose=0, random_state=42, copy_x=True, algorithm='auto')\n",
    "model.fit(features)"
   ]
  },
  {
   "cell_type": "code",
   "execution_count": 12,
   "id": "fe7b16b1",
   "metadata": {},
   "outputs": [
    {
     "data": {
      "text/plain": [
       "array([8, 6, 6, ..., 5, 7, 1], dtype=int32)"
      ]
     },
     "execution_count": 12,
     "metadata": {},
     "output_type": "execute_result"
    }
   ],
   "source": [
    "model.labels_"
   ]
  },
  {
   "cell_type": "code",
   "execution_count": 13,
   "id": "527e04cc",
   "metadata": {},
   "outputs": [],
   "source": [
    "df['Cluster'] = model.labels_\n",
    "df2 = pd.DataFrame()\n",
    "clusters = df.groupby('Cluster')"
   ]
  },
  {
   "cell_type": "code",
   "execution_count": 14,
   "id": "d5a6f0e7",
   "metadata": {},
   "outputs": [],
   "source": [
    "order_centroids = model.cluster_centers_.argsort()[:, ::-1]\n",
    "terms = vectorizer.get_feature_names_out()\n",
    "for i in range(k):\n",
    "    subset_df = df[df.Cluster == i].shape[0]\n",
    "\n",
    "    top_ten_words = [terms[ind] for ind in order_centroids[i, :10]]\n",
    "        # df2['top_ten_words'] = [terms[ind] for ind in order_centroids[i, :10]]\n",
    "        # print(\"Cluster {}: {}\".format(i, '; '.join(top_ten_words)))\n",
    "\n",
    "    data = {'Cluster Number': i, 'Number of Items': subset_df,\n",
    "                'Top Cluster Terms': top_ten_words}\n",
    "\n",
    "    df2 = df2.append(data, ignore_index=True)"
   ]
  },
  {
   "cell_type": "code",
   "execution_count": 15,
   "id": "58620bd1",
   "metadata": {
    "scrolled": true
   },
   "outputs": [
    {
     "data": {
      "text/html": [
       "<div>\n",
       "<style scoped>\n",
       "    .dataframe tbody tr th:only-of-type {\n",
       "        vertical-align: middle;\n",
       "    }\n",
       "\n",
       "    .dataframe tbody tr th {\n",
       "        vertical-align: top;\n",
       "    }\n",
       "\n",
       "    .dataframe thead th {\n",
       "        text-align: right;\n",
       "    }\n",
       "</style>\n",
       "<table border=\"1\" class=\"dataframe\">\n",
       "  <thead>\n",
       "    <tr style=\"text-align: right;\">\n",
       "      <th></th>\n",
       "      <th>Cluster Number</th>\n",
       "      <th>Number of Items</th>\n",
       "      <th>Top Cluster Terms</th>\n",
       "    </tr>\n",
       "  </thead>\n",
       "  <tbody>\n",
       "    <tr>\n",
       "      <th>0</th>\n",
       "      <td>0.0</td>\n",
       "      <td>423.0</td>\n",
       "      <td>[species, gene, asexual, malaria, parasite, ge...</td>\n",
       "    </tr>\n",
       "    <tr>\n",
       "      <th>1</th>\n",
       "      <td>1.0</td>\n",
       "      <td>1706.0</td>\n",
       "      <td>[gender, identity, self, female, male, sex, ge...</td>\n",
       "    </tr>\n",
       "    <tr>\n",
       "      <th>2</th>\n",
       "      <td>2.0</td>\n",
       "      <td>874.0</td>\n",
       "      <td>[msm, hiv, men, prep, sex, among, art, men sex...</td>\n",
       "    </tr>\n",
       "    <tr>\n",
       "      <th>3</th>\n",
       "      <td>3.0</td>\n",
       "      <td>1476.0</td>\n",
       "      <td>[sexual, women, sexual minority, minority, dep...</td>\n",
       "    </tr>\n",
       "    <tr>\n",
       "      <th>4</th>\n",
       "      <td>4.0</td>\n",
       "      <td>601.0</td>\n",
       "      <td>[use, sexual, 95, identity, ci, among, alcohol...</td>\n",
       "    </tr>\n",
       "    <tr>\n",
       "      <th>5</th>\n",
       "      <td>5.0</td>\n",
       "      <td>1470.0</td>\n",
       "      <td>[hiv, men, prep, sex, risk, sexual, among, msm...</td>\n",
       "    </tr>\n",
       "    <tr>\n",
       "      <th>6</th>\n",
       "      <td>6.0</td>\n",
       "      <td>1515.0</td>\n",
       "      <td>[health, transgender, mental, mental health, s...</td>\n",
       "    </tr>\n",
       "    <tr>\n",
       "      <th>7</th>\n",
       "      <td>7.0</td>\n",
       "      <td>1112.0</td>\n",
       "      <td>[sexual, school, gender, students, orientation...</td>\n",
       "    </tr>\n",
       "    <tr>\n",
       "      <th>8</th>\n",
       "      <td>8.0</td>\n",
       "      <td>340.0</td>\n",
       "      <td>[covid, covid 19, health, 19, pandemic, social...</td>\n",
       "    </tr>\n",
       "    <tr>\n",
       "      <th>9</th>\n",
       "      <td>9.0</td>\n",
       "      <td>577.0</td>\n",
       "      <td>[attitudes, toward, attitudes toward, gay, stu...</td>\n",
       "    </tr>\n",
       "  </tbody>\n",
       "</table>\n",
       "</div>"
      ],
      "text/plain": [
       "   Cluster Number  Number of Items  \\\n",
       "0             0.0            423.0   \n",
       "1             1.0           1706.0   \n",
       "2             2.0            874.0   \n",
       "3             3.0           1476.0   \n",
       "4             4.0            601.0   \n",
       "5             5.0           1470.0   \n",
       "6             6.0           1515.0   \n",
       "7             7.0           1112.0   \n",
       "8             8.0            340.0   \n",
       "9             9.0            577.0   \n",
       "\n",
       "                                   Top Cluster Terms  \n",
       "0  [species, gene, asexual, malaria, parasite, ge...  \n",
       "1  [gender, identity, self, female, male, sex, ge...  \n",
       "2  [msm, hiv, men, prep, sex, among, art, men sex...  \n",
       "3  [sexual, women, sexual minority, minority, dep...  \n",
       "4  [use, sexual, 95, identity, ci, among, alcohol...  \n",
       "5  [hiv, men, prep, sex, risk, sexual, among, msm...  \n",
       "6  [health, transgender, mental, mental health, s...  \n",
       "7  [sexual, school, gender, students, orientation...  \n",
       "8  [covid, covid 19, health, 19, pandemic, social...  \n",
       "9  [attitudes, toward, attitudes toward, gay, stu...  "
      ]
     },
     "execution_count": 15,
     "metadata": {},
     "output_type": "execute_result"
    }
   ],
   "source": [
    "df2"
   ]
  }
 ],
 "metadata": {
  "kernelspec": {
   "display_name": "Python 3 (ipykernel)",
   "language": "python",
   "name": "python3"
  },
  "language_info": {
   "codemirror_mode": {
    "name": "ipython",
    "version": 3
   },
   "file_extension": ".py",
   "mimetype": "text/x-python",
   "name": "python",
   "nbconvert_exporter": "python",
   "pygments_lexer": "ipython3",
   "version": "3.9.7"
  }
 },
 "nbformat": 4,
 "nbformat_minor": 5
}
